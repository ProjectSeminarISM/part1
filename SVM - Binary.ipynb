{
 "cells": [
  {
   "cell_type": "code",
   "execution_count": 645,
   "metadata": {},
   "outputs": [],
   "source": [
    "import numpy as np\n",
    "import pandas as pd\n",
    "import seaborn as sns\n",
    "%matplotlib inline\n",
    "\n",
    "from sklearn.svm import SVC\n",
    "from sklearn.model_selection import train_test_split\n",
    "from sklearn.metrics import classification_report,confusion_matrix\n",
    "from sklearn import preprocessing\n",
    "from sklearn.preprocessing import MinMaxScaler\n",
    "import sklearn.metrics as metrics\n",
    "\n"
   ]
  },
  {
   "cell_type": "markdown",
   "metadata": {},
   "source": [
    "# Preprocessing and Feature Selection"
   ]
  },
  {
   "cell_type": "markdown",
   "metadata": {},
   "source": [
    "First put all features in one pandas.DataFrame and add image ids."
   ]
  },
  {
   "cell_type": "code",
   "execution_count": 651,
   "metadata": {},
   "outputs": [],
   "source": [
    "#load all csv files needed\n",
    "df = pd.read_csv('features_all_malte.csv')\n",
    "df2 = pd.read_csv('features_all_fabian.csv')\n",
    "ids = pd.read_csv('image_ids.csv')"
   ]
  },
  {
   "cell_type": "code",
   "execution_count": 654,
   "metadata": {},
   "outputs": [],
   "source": [
    "ids = ids.drop(['dx', 'dx_type', 'age', 'sex', 'localization'], axis = 1)"
   ]
  },
  {
   "cell_type": "code",
   "execution_count": 655,
   "metadata": {},
   "outputs": [],
   "source": [
    "#add image ids to df2 (features_all_fabian.csv)\n",
    "merge_df = df2.join(ids, how='outer') "
   ]
  },
  {
   "cell_type": "code",
   "execution_count": 657,
   "metadata": {},
   "outputs": [],
   "source": [
    "df = merge_df.set_index('image_id').join(df.set_index('image_id'))"
   ]
  },
  {
   "cell_type": "code",
   "execution_count": 658,
   "metadata": {
    "scrolled": true
   },
   "outputs": [
    {
     "data": {
      "text/html": [
       "<div>\n",
       "<style scoped>\n",
       "    .dataframe tbody tr th:only-of-type {\n",
       "        vertical-align: middle;\n",
       "    }\n",
       "\n",
       "    .dataframe tbody tr th {\n",
       "        vertical-align: top;\n",
       "    }\n",
       "\n",
       "    .dataframe thead th {\n",
       "        text-align: right;\n",
       "    }\n",
       "</style>\n",
       "<table border=\"1\" class=\"dataframe\">\n",
       "  <thead>\n",
       "    <tr style=\"text-align: right;\">\n",
       "      <th></th>\n",
       "      <th>Moment_R_L00</th>\n",
       "      <th>Moment_R_L01</th>\n",
       "      <th>Moment_R_L02</th>\n",
       "      <th>Moment_R_L10</th>\n",
       "      <th>Moment_R_L11</th>\n",
       "      <th>Moment_R_L12</th>\n",
       "      <th>Moment_R_L20</th>\n",
       "      <th>Moment_R_L21</th>\n",
       "      <th>Moment_R_L22</th>\n",
       "      <th>Moment_G_L00</th>\n",
       "      <th>...</th>\n",
       "      <th>nu03</th>\n",
       "      <th>nu12</th>\n",
       "      <th>nu20</th>\n",
       "      <th>nu21</th>\n",
       "      <th>nu30</th>\n",
       "      <th>perimeter</th>\n",
       "      <th>symmetry</th>\n",
       "      <th>dx</th>\n",
       "      <th>validation</th>\n",
       "      <th>malignant</th>\n",
       "    </tr>\n",
       "    <tr>\n",
       "      <th>image_id</th>\n",
       "      <th></th>\n",
       "      <th></th>\n",
       "      <th></th>\n",
       "      <th></th>\n",
       "      <th></th>\n",
       "      <th></th>\n",
       "      <th></th>\n",
       "      <th></th>\n",
       "      <th></th>\n",
       "      <th></th>\n",
       "      <th></th>\n",
       "      <th></th>\n",
       "      <th></th>\n",
       "      <th></th>\n",
       "      <th></th>\n",
       "      <th></th>\n",
       "      <th></th>\n",
       "      <th></th>\n",
       "      <th></th>\n",
       "      <th></th>\n",
       "      <th></th>\n",
       "    </tr>\n",
       "  </thead>\n",
       "  <tbody>\n",
       "    <tr>\n",
       "      <th>ISIC_0027419</th>\n",
       "      <td>0.000578</td>\n",
       "      <td>-3.125691</td>\n",
       "      <td>-16.983755</td>\n",
       "      <td>-29.627738</td>\n",
       "      <td>-2.659856</td>\n",
       "      <td>-8.371072</td>\n",
       "      <td>-74.668856</td>\n",
       "      <td>-11.351595</td>\n",
       "      <td>-69.762741</td>\n",
       "      <td>0.000637</td>\n",
       "      <td>...</td>\n",
       "      <td>0.014579</td>\n",
       "      <td>0.023919</td>\n",
       "      <td>0.061852</td>\n",
       "      <td>-0.006439</td>\n",
       "      <td>-0.005693</td>\n",
       "      <td>1179.165643</td>\n",
       "      <td>0.9770473925852277</td>\n",
       "      <td>bkl</td>\n",
       "      <td>1</td>\n",
       "      <td>0</td>\n",
       "    </tr>\n",
       "    <tr>\n",
       "      <th>ISIC_0025030</th>\n",
       "      <td>0.000148</td>\n",
       "      <td>6.620587</td>\n",
       "      <td>-57.724036</td>\n",
       "      <td>-5.835733</td>\n",
       "      <td>-6.146287</td>\n",
       "      <td>5.408704</td>\n",
       "      <td>-127.847081</td>\n",
       "      <td>-15.500430</td>\n",
       "      <td>-1.895868</td>\n",
       "      <td>0.000881</td>\n",
       "      <td>...</td>\n",
       "      <td>-0.048263</td>\n",
       "      <td>0.023418</td>\n",
       "      <td>0.125249</td>\n",
       "      <td>0.005926</td>\n",
       "      <td>-0.023605</td>\n",
       "      <td>481.480229</td>\n",
       "      <td>161.07803921906105</td>\n",
       "      <td>bkl</td>\n",
       "      <td>1</td>\n",
       "      <td>0</td>\n",
       "    </tr>\n",
       "    <tr>\n",
       "      <th>ISIC_0026769</th>\n",
       "      <td>0.000189</td>\n",
       "      <td>23.620562</td>\n",
       "      <td>-51.707425</td>\n",
       "      <td>-32.906473</td>\n",
       "      <td>10.581304</td>\n",
       "      <td>5.893859</td>\n",
       "      <td>-74.381919</td>\n",
       "      <td>-44.328496</td>\n",
       "      <td>-60.476961</td>\n",
       "      <td>0.000311</td>\n",
       "      <td>...</td>\n",
       "      <td>0.017578</td>\n",
       "      <td>-0.016207</td>\n",
       "      <td>0.202239</td>\n",
       "      <td>0.000484</td>\n",
       "      <td>0.014633</td>\n",
       "      <td>3052.164768</td>\n",
       "      <td>0.9591750731310495</td>\n",
       "      <td>bkl</td>\n",
       "      <td>0</td>\n",
       "      <td>0</td>\n",
       "    </tr>\n",
       "    <tr>\n",
       "      <th>ISIC_0025661</th>\n",
       "      <td>0.000311</td>\n",
       "      <td>-16.095788</td>\n",
       "      <td>-77.088365</td>\n",
       "      <td>-13.184954</td>\n",
       "      <td>1.303120</td>\n",
       "      <td>-4.938602</td>\n",
       "      <td>-117.251672</td>\n",
       "      <td>-0.052012</td>\n",
       "      <td>23.886053</td>\n",
       "      <td>0.000204</td>\n",
       "      <td>...</td>\n",
       "      <td>-0.056763</td>\n",
       "      <td>0.019802</td>\n",
       "      <td>0.081058</td>\n",
       "      <td>0.006778</td>\n",
       "      <td>-0.012322</td>\n",
       "      <td>494.492422</td>\n",
       "      <td>0.11282341025738685</td>\n",
       "      <td>bkl</td>\n",
       "      <td>0</td>\n",
       "      <td>0</td>\n",
       "    </tr>\n",
       "    <tr>\n",
       "      <th>ISIC_0031633</th>\n",
       "      <td>0.000411</td>\n",
       "      <td>6.413269</td>\n",
       "      <td>50.663407</td>\n",
       "      <td>67.091066</td>\n",
       "      <td>-33.535822</td>\n",
       "      <td>-42.954445</td>\n",
       "      <td>26.455474</td>\n",
       "      <td>-24.612728</td>\n",
       "      <td>-123.307385</td>\n",
       "      <td>0.000022</td>\n",
       "      <td>...</td>\n",
       "      <td>0.002529</td>\n",
       "      <td>-0.007409</td>\n",
       "      <td>0.124105</td>\n",
       "      <td>0.002641</td>\n",
       "      <td>0.002093</td>\n",
       "      <td>2153.106769</td>\n",
       "      <td>0.17135336578585886</td>\n",
       "      <td>bkl</td>\n",
       "      <td>0</td>\n",
       "      <td>0</td>\n",
       "    </tr>\n",
       "  </tbody>\n",
       "</table>\n",
       "<p>5 rows × 79 columns</p>\n",
       "</div>"
      ],
      "text/plain": [
       "              Moment_R_L00  Moment_R_L01  Moment_R_L02  Moment_R_L10  \\\n",
       "image_id                                                               \n",
       "ISIC_0027419      0.000578     -3.125691    -16.983755    -29.627738   \n",
       "ISIC_0025030      0.000148      6.620587    -57.724036     -5.835733   \n",
       "ISIC_0026769      0.000189     23.620562    -51.707425    -32.906473   \n",
       "ISIC_0025661      0.000311    -16.095788    -77.088365    -13.184954   \n",
       "ISIC_0031633      0.000411      6.413269     50.663407     67.091066   \n",
       "\n",
       "              Moment_R_L11  Moment_R_L12  Moment_R_L20  Moment_R_L21  \\\n",
       "image_id                                                               \n",
       "ISIC_0027419     -2.659856     -8.371072    -74.668856    -11.351595   \n",
       "ISIC_0025030     -6.146287      5.408704   -127.847081    -15.500430   \n",
       "ISIC_0026769     10.581304      5.893859    -74.381919    -44.328496   \n",
       "ISIC_0025661      1.303120     -4.938602   -117.251672     -0.052012   \n",
       "ISIC_0031633    -33.535822    -42.954445     26.455474    -24.612728   \n",
       "\n",
       "              Moment_R_L22  Moment_G_L00    ...          nu03      nu12  \\\n",
       "image_id                                    ...                           \n",
       "ISIC_0027419    -69.762741      0.000637    ...      0.014579  0.023919   \n",
       "ISIC_0025030     -1.895868      0.000881    ...     -0.048263  0.023418   \n",
       "ISIC_0026769    -60.476961      0.000311    ...      0.017578 -0.016207   \n",
       "ISIC_0025661     23.886053      0.000204    ...     -0.056763  0.019802   \n",
       "ISIC_0031633   -123.307385      0.000022    ...      0.002529 -0.007409   \n",
       "\n",
       "                  nu20      nu21      nu30    perimeter             symmetry  \\\n",
       "image_id                                                                       \n",
       "ISIC_0027419  0.061852 -0.006439 -0.005693  1179.165643   0.9770473925852277   \n",
       "ISIC_0025030  0.125249  0.005926 -0.023605   481.480229   161.07803921906105   \n",
       "ISIC_0026769  0.202239  0.000484  0.014633  3052.164768   0.9591750731310495   \n",
       "ISIC_0025661  0.081058  0.006778 -0.012322   494.492422  0.11282341025738685   \n",
       "ISIC_0031633  0.124105  0.002641  0.002093  2153.106769  0.17135336578585886   \n",
       "\n",
       "               dx  validation  malignant  \n",
       "image_id                                  \n",
       "ISIC_0027419  bkl           1          0  \n",
       "ISIC_0025030  bkl           1          0  \n",
       "ISIC_0026769  bkl           0          0  \n",
       "ISIC_0025661  bkl           0          0  \n",
       "ISIC_0031633  bkl           0          0  \n",
       "\n",
       "[5 rows x 79 columns]"
      ]
     },
     "execution_count": 658,
     "metadata": {},
     "output_type": "execute_result"
    }
   ],
   "source": [
    "df.head()"
   ]
  },
  {
   "cell_type": "code",
   "execution_count": 659,
   "metadata": {},
   "outputs": [],
   "source": [
    "#sort here already! Needed for export later\n",
    "df = df.sort_values(by = 'image_id')"
   ]
  },
  {
   "cell_type": "code",
   "execution_count": 531,
   "metadata": {},
   "outputs": [],
   "source": [
    "#df.to_csv('features_all_together.csv')"
   ]
  },
  {
   "cell_type": "code",
   "execution_count": 660,
   "metadata": {},
   "outputs": [],
   "source": [
    "#clean up and drop all rows where NAs occur\n",
    "df = df.dropna()"
   ]
  },
  {
   "cell_type": "code",
   "execution_count": 661,
   "metadata": {},
   "outputs": [],
   "source": [
    "df_train = df[df['validation'] == 0]\n",
    "df_test = df[df['validation'] == 1]\n",
    "\n",
    "# create label DataFrames\n",
    "y_train = pd.DataFrame(df_train['malignant'] == 1)\n",
    "y_test = pd.DataFrame(df_test['malignant'] == 1)"
   ]
  },
  {
   "cell_type": "code",
   "execution_count": 1807,
   "metadata": {},
   "outputs": [],
   "source": [
    "# create feature DataFrames\n",
    "X_train = df_train.drop(['lesion_id', 'dx', 'validation', 'malignant'], axis = 1)\n",
    "\n",
    "X_test = df_test.drop(['lesion_id', 'dx', 'validation', 'malignant'], axis = 1)"
   ]
  },
  {
   "cell_type": "code",
   "execution_count": 1809,
   "metadata": {},
   "outputs": [
    {
     "name": "stderr",
     "output_type": "stream",
     "text": [
      "/anaconda3/lib/python3.6/site-packages/numpy/core/_methods.py:36: RuntimeWarning: overflow encountered in reduce\n",
      "  return umr_sum(a, axis, dtype, out, keepdims, initial)\n",
      "/anaconda3/lib/python3.6/site-packages/sklearn/preprocessing/data.py:323: DataConversionWarning: Data with input dtype float64, object were all converted to float64 by MinMaxScaler.\n",
      "  return self.partial_fit(X, y)\n",
      "/anaconda3/lib/python3.6/site-packages/numpy/core/_methods.py:36: RuntimeWarning: overflow encountered in reduce\n",
      "  return umr_sum(a, axis, dtype, out, keepdims, initial)\n",
      "/anaconda3/lib/python3.6/site-packages/numpy/core/_methods.py:36: RuntimeWarning: overflow encountered in reduce\n",
      "  return umr_sum(a, axis, dtype, out, keepdims, initial)\n",
      "/anaconda3/lib/python3.6/site-packages/sklearn/preprocessing/data.py:323: DataConversionWarning: Data with input dtype float64, object were all converted to float64 by MinMaxScaler.\n",
      "  return self.partial_fit(X, y)\n",
      "/anaconda3/lib/python3.6/site-packages/numpy/core/_methods.py:36: RuntimeWarning: overflow encountered in reduce\n",
      "  return umr_sum(a, axis, dtype, out, keepdims, initial)\n"
     ]
    }
   ],
   "source": [
    "#scaling each feature to [0,1]\n",
    "min_max_scaler = preprocessing.MinMaxScaler()\n",
    "\n",
    "X_train = pd.DataFrame(min_max_scaler.fit_transform(X_train), columns=X_train.columns)\n",
    "X_test = pd.DataFrame(min_max_scaler.fit_transform(X_test), columns=X_test.columns)"
   ]
  },
  {
   "cell_type": "code",
   "execution_count": 1798,
   "metadata": {},
   "outputs": [],
   "source": [
    "#feature selection #1\n",
    "from sklearn.feature_selection import SelectKBest,f_classif, chi2,mutual_info_classif\n",
    "\n",
    "select = SelectKBest(f_classif , k=26)\n",
    "select.fit(X_train, np.ravel(y_train))\n",
    "names = X_train.columns.values[select.get_support(indices=True)]\n",
    "X_train = pd.DataFrame(select.transform(X_train))\n",
    "X_test = pd.DataFrame(select.transform(X_test))"
   ]
  },
  {
   "cell_type": "code",
   "execution_count": 1810,
   "metadata": {},
   "outputs": [],
   "source": [
    "#feature selection #2\n",
    "from sklearn.feature_selection import SelectFromModel\n",
    "from sklearn.ensemble import RandomForestClassifier\n",
    "\n",
    "select = SelectFromModel(RandomForestClassifier(n_estimators=100, random_state=25)) #random_state to make reproducable\n",
    "select.fit(X_train, np.ravel(y_train))\n",
    "names = X_train.columns.values[select.get_support(indices=True)]\n",
    "X_train = pd.DataFrame(select.transform(X_train))\n",
    "X_test = pd.DataFrame(select.transform(X_test))"
   ]
  },
  {
   "cell_type": "code",
   "execution_count": 1803,
   "metadata": {},
   "outputs": [
    {
     "name": "stderr",
     "output_type": "stream",
     "text": [
      "/anaconda3/lib/python3.6/site-packages/sklearn/svm/base.py:922: ConvergenceWarning: Liblinear failed to converge, increase the number of iterations.\n",
      "  \"the number of iterations.\", ConvergenceWarning)\n",
      "/anaconda3/lib/python3.6/site-packages/sklearn/svm/base.py:922: ConvergenceWarning: Liblinear failed to converge, increase the number of iterations.\n",
      "  \"the number of iterations.\", ConvergenceWarning)\n"
     ]
    }
   ],
   "source": [
    "#feature selection #3\n",
    "from sklearn.svm import LinearSVC\n",
    "from sklearn.feature_selection import SelectFromModel\n",
    "\n",
    "#the smaller C the fewer features selected.\n",
    "lsvc = LinearSVC(C=0.1, penalty=\"l1\", dual=False).fit(X_train, np.ravel(y_train))\n",
    "select = SelectFromModel(lsvc)\n",
    "select.fit(X_train, np.ravel(y_train))\n",
    "names = X_train.columns.values[select.get_support(indices=True)]\n",
    "X_train = pd.DataFrame(select.transform(X_train))\n",
    "X_test = pd.DataFrame(select.transform(X_test))"
   ]
  },
  {
   "cell_type": "code",
   "execution_count": 1811,
   "metadata": {
    "scrolled": false
   },
   "outputs": [
    {
     "data": {
      "text/plain": [
       "array(['Moment_R_L01', 'Moment_R_L02', 'Moment_R_L20', 'Moment_R_L22',\n",
       "       'Moment_G_L02', 'Moment_G_L20', 'Moment_B_L02', 'Moment_B_L20',\n",
       "       'average_red3', 'average_green3', 'average_blue3',\n",
       "       'area_variance02', 'area_variance03', 'area_variance2',\n",
       "       'area_variance3', 'average_blue2', 'average_green2',\n",
       "       'average_red2', 'correlation2', 'energy2', 'nu03', 'nu12', 'nu30',\n",
       "       'perimeter'], dtype=object)"
      ]
     },
     "execution_count": 1811,
     "metadata": {},
     "output_type": "execute_result"
    }
   ],
   "source": [
    "names"
   ]
  },
  {
   "cell_type": "code",
   "execution_count": 1812,
   "metadata": {},
   "outputs": [],
   "source": [
    "X_train = preprocessing.scale(X_train)\n",
    "X_test  = preprocessing.scale(X_test)"
   ]
  },
  {
   "cell_type": "markdown",
   "metadata": {},
   "source": [
    "# Training"
   ]
  },
  {
   "cell_type": "code",
   "execution_count": 1814,
   "metadata": {},
   "outputs": [],
   "source": [
    "model = SVC(kernel='rbf', C=15, gamma='auto', probability = True)"
   ]
  },
  {
   "cell_type": "code",
   "execution_count": 1815,
   "metadata": {
    "scrolled": false
   },
   "outputs": [
    {
     "data": {
      "text/plain": [
       "SVC(C=15, cache_size=200, class_weight=None, coef0=0.0,\n",
       "  decision_function_shape='ovr', degree=3, gamma='auto', kernel='rbf',\n",
       "  max_iter=-1, probability=True, random_state=None, shrinking=True,\n",
       "  tol=0.001, verbose=False)"
      ]
     },
     "execution_count": 1815,
     "metadata": {},
     "output_type": "execute_result"
    }
   ],
   "source": [
    "model.fit(X_train,np.ravel(y_train))"
   ]
  },
  {
   "cell_type": "code",
   "execution_count": 1817,
   "metadata": {},
   "outputs": [],
   "source": [
    "prediction_probabilities = model.predict_proba(X_test)"
   ]
  },
  {
   "cell_type": "code",
   "execution_count": 1819,
   "metadata": {
    "scrolled": true
   },
   "outputs": [],
   "source": [
    "probabs = pd.DataFrame(prediction_probabilities)\n",
    "probabs.columns = [False, True]\n",
    "predictions = probabs.idxmax(axis=1)"
   ]
  },
  {
   "cell_type": "code",
   "execution_count": 1821,
   "metadata": {},
   "outputs": [
    {
     "name": "stdout",
     "output_type": "stream",
     "text": [
      "[[1859  159]\n",
      " [ 278  215]]\n"
     ]
    }
   ],
   "source": [
    "confusion = confusion_matrix(y_test,predictions)\n",
    "print(confusion)\n"
   ]
  },
  {
   "cell_type": "code",
   "execution_count": null,
   "metadata": {},
   "outputs": [],
   "source": [
    "# check if overfitting the data by looking at training dataset\n",
    "\n",
    "#prediction_probabilities = model.predict_proba(X_train)\n",
    "#probabs = pd.DataFrame(prediction_probabilities)\n",
    "#probabs.columns = [False, True]\n",
    "#predictions = probabs.idxmax(axis=1)\n",
    "#confusion = confusion_matrix(y_train,predictions)\n",
    "#print(confusion)\n"
   ]
  },
  {
   "cell_type": "code",
   "execution_count": 1822,
   "metadata": {},
   "outputs": [],
   "source": [
    "# classification metrics (https://stackoverflow.com/a/43331484/8614827)\n",
    "FP = confusion.sum(axis=0) - np.diag(confusion)  \n",
    "FN = confusion.sum(axis=1) - np.diag(confusion)\n",
    "TP = np.diag(confusion)\n",
    "TN = confusion.sum() - (FP + FN + TP)\n",
    "\n",
    "# Sensitivity, hit rate, recall, or true positive rate\n",
    "TPR = TP/(TP+FN)\n",
    "# Specificity or true negative rate\n",
    "TNR = TN/(TN+FP) \n",
    "# Precision or positive predictive value\n",
    "PPV = TP/(TP+FP)\n",
    "# Negative predictive value\n",
    "NPV = TN/(TN+FN)\n",
    "# Fall out or false positive rate\n",
    "FPR = FP/(FP+TN)\n",
    "# False negative rate\n",
    "FNR = FN/(TP+FN)\n",
    "# False discovery rate\n",
    "FDR = FP/(TP+FP)\n",
    "\n",
    "# Overall accuracy\n",
    "ACC = (TP+TN)/(TP+FP+FN+TN)"
   ]
  },
  {
   "cell_type": "code",
   "execution_count": 1823,
   "metadata": {},
   "outputs": [
    {
     "name": "stdout",
     "output_type": "stream",
     "text": [
      "0.8259657506969335\n",
      "0.6786572973059904\n",
      "0.6786572973059904\n",
      "0.695394301275405\n"
     ]
    }
   ],
   "source": [
    "# metrics used on MTEC website\n",
    "print(ACC.mean()) #accuracy\n",
    "print(TPR.mean()) #sensitivity\n",
    "print(TNR.mean()) #specificity\n",
    "print(metrics.f1_score(y_test, predictions, average=None).mean()) #F1-score"
   ]
  },
  {
   "cell_type": "markdown",
   "metadata": {},
   "source": [
    "# Postprocessing and csv Creation"
   ]
  },
  {
   "cell_type": "code",
   "execution_count": 1737,
   "metadata": {},
   "outputs": [],
   "source": [
    "result = pd.DataFrame(prediction_probabilities)"
   ]
  },
  {
   "cell_type": "code",
   "execution_count": 1824,
   "metadata": {},
   "outputs": [],
   "source": [
    "image_label = pd.DataFrame(df_test.index)\n",
    "image_label = image_label.sort_values(by = 'image_id')"
   ]
  },
  {
   "cell_type": "code",
   "execution_count": 1652,
   "metadata": {},
   "outputs": [],
   "source": [
    "image_label= image_label.reset_index(drop=True)"
   ]
  },
  {
   "cell_type": "code",
   "execution_count": 1653,
   "metadata": {},
   "outputs": [],
   "source": [
    "to_csv = image_label.join(result, how='outer')"
   ]
  },
  {
   "cell_type": "code",
   "execution_count": 1654,
   "metadata": {},
   "outputs": [],
   "source": [
    "to_csv.columns = ['image','BEN','MAL']"
   ]
  },
  {
   "cell_type": "code",
   "execution_count": 1655,
   "metadata": {},
   "outputs": [],
   "source": [
    "to_csv.to_csv('binary_classification', index = False)"
   ]
  },
  {
   "cell_type": "code",
   "execution_count": 1656,
   "metadata": {},
   "outputs": [
    {
     "data": {
      "text/html": [
       "<div>\n",
       "<style scoped>\n",
       "    .dataframe tbody tr th:only-of-type {\n",
       "        vertical-align: middle;\n",
       "    }\n",
       "\n",
       "    .dataframe tbody tr th {\n",
       "        vertical-align: top;\n",
       "    }\n",
       "\n",
       "    .dataframe thead th {\n",
       "        text-align: right;\n",
       "    }\n",
       "</style>\n",
       "<table border=\"1\" class=\"dataframe\">\n",
       "  <thead>\n",
       "    <tr style=\"text-align: right;\">\n",
       "      <th></th>\n",
       "      <th>image</th>\n",
       "      <th>BEN</th>\n",
       "      <th>MAL</th>\n",
       "    </tr>\n",
       "  </thead>\n",
       "  <tbody>\n",
       "    <tr>\n",
       "      <th>0</th>\n",
       "      <td>ISIC_0024312</td>\n",
       "      <td>0.819358</td>\n",
       "      <td>0.180642</td>\n",
       "    </tr>\n",
       "    <tr>\n",
       "      <th>1</th>\n",
       "      <td>ISIC_0024317</td>\n",
       "      <td>0.797442</td>\n",
       "      <td>0.202558</td>\n",
       "    </tr>\n",
       "    <tr>\n",
       "      <th>2</th>\n",
       "      <td>ISIC_0024318</td>\n",
       "      <td>0.945907</td>\n",
       "      <td>0.054093</td>\n",
       "    </tr>\n",
       "    <tr>\n",
       "      <th>3</th>\n",
       "      <td>ISIC_0024324</td>\n",
       "      <td>0.813754</td>\n",
       "      <td>0.186246</td>\n",
       "    </tr>\n",
       "    <tr>\n",
       "      <th>4</th>\n",
       "      <td>ISIC_0024328</td>\n",
       "      <td>0.938245</td>\n",
       "      <td>0.061755</td>\n",
       "    </tr>\n",
       "  </tbody>\n",
       "</table>\n",
       "</div>"
      ],
      "text/plain": [
       "          image       BEN       MAL\n",
       "0  ISIC_0024312  0.819358  0.180642\n",
       "1  ISIC_0024317  0.797442  0.202558\n",
       "2  ISIC_0024318  0.945907  0.054093\n",
       "3  ISIC_0024324  0.813754  0.186246\n",
       "4  ISIC_0024328  0.938245  0.061755"
      ]
     },
     "execution_count": 1656,
     "metadata": {},
     "output_type": "execute_result"
    }
   ],
   "source": [
    "to_csv.head()"
   ]
  },
  {
   "cell_type": "markdown",
   "metadata": {},
   "source": [
    "# Random Forrest"
   ]
  },
  {
   "cell_type": "code",
   "execution_count": 462,
   "metadata": {},
   "outputs": [
    {
     "data": {
      "text/plain": [
       "RandomForestClassifier(bootstrap=True, class_weight=None, criterion='gini',\n",
       "            max_depth=None, max_features='auto', max_leaf_nodes=None,\n",
       "            min_impurity_decrease=0.0, min_impurity_split=None,\n",
       "            min_samples_leaf=1, min_samples_split=2,\n",
       "            min_weight_fraction_leaf=0.0, n_estimators=100, n_jobs=None,\n",
       "            oob_score=False, random_state=None, verbose=0,\n",
       "            warm_start=False)"
      ]
     },
     "execution_count": 462,
     "metadata": {},
     "output_type": "execute_result"
    }
   ],
   "source": [
    "from sklearn.ensemble import RandomForestClassifier\n",
    "rfc = RandomForestClassifier(n_estimators=100)\n",
    "rfc.fit(X_train, np.ravel(y_train))"
   ]
  },
  {
   "cell_type": "code",
   "execution_count": 463,
   "metadata": {},
   "outputs": [],
   "source": [
    "prediction_probabilities = rfc.predict_proba(X_test)"
   ]
  }
 ],
 "metadata": {
  "kernelspec": {
   "display_name": "Python 3",
   "language": "python",
   "name": "python3"
  },
  "language_info": {
   "codemirror_mode": {
    "name": "ipython",
    "version": 3
   },
   "file_extension": ".py",
   "mimetype": "text/x-python",
   "name": "python",
   "nbconvert_exporter": "python",
   "pygments_lexer": "ipython3",
   "version": "3.6.6"
  }
 },
 "nbformat": 4,
 "nbformat_minor": 2
}
