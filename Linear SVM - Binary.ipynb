{
 "cells": [
  {
   "cell_type": "code",
   "execution_count": 797,
   "metadata": {},
   "outputs": [],
   "source": [
    "import numpy as np\n",
    "import pandas as pd\n",
    "import seaborn as sns\n",
    "%matplotlib inline\n",
    "\n",
    "from sklearn.svm import SVC\n",
    "from sklearn.model_selection import train_test_split\n",
    "from sklearn.metrics import classification_report,confusion_matrix\n",
    "from sklearn import preprocessing\n",
    "from sklearn.preprocessing import MinMaxScaler\n",
    "\n"
   ]
  },
  {
   "cell_type": "code",
   "execution_count": 988,
   "metadata": {},
   "outputs": [],
   "source": [
    "model = SVC(kernel='rbf', C=50, gamma = 'scale', probability = True)"
   ]
  },
  {
   "cell_type": "code",
   "execution_count": 810,
   "metadata": {},
   "outputs": [],
   "source": [
    "#df = pd.read_csv('features.csv')\n",
    "#df = pd.read_csv('with_validation.csv', sep=';')\n",
    "#df = pd.read_csv('processed_all.csv')\n",
    "df = pd.read_csv('features_all.csv')\n"
   ]
  },
  {
   "cell_type": "code",
   "execution_count": 505,
   "metadata": {},
   "outputs": [],
   "source": [
    "#drop here because Fabi used histogram equalization\n",
    "df = df.drop(['contrast', 'dissimilarity', 'homogeneity', 'energy', 'correlation'],axis = 1)"
   ]
  },
  {
   "cell_type": "code",
   "execution_count": 506,
   "metadata": {},
   "outputs": [],
   "source": [
    "df3 = pd.read_csv('features_big.csv')"
   ]
  },
  {
   "cell_type": "code",
   "execution_count": 507,
   "metadata": {},
   "outputs": [],
   "source": [
    "# drop here because Malte used masking for calculating average color\n",
    "df3 = df3.drop(['average_red', 'average_green', 'average_blue'], axis = 1)"
   ]
  },
  {
   "cell_type": "code",
   "execution_count": 508,
   "metadata": {},
   "outputs": [
    {
     "data": {
      "text/html": [
       "<div>\n",
       "<style scoped>\n",
       "    .dataframe tbody tr th:only-of-type {\n",
       "        vertical-align: middle;\n",
       "    }\n",
       "\n",
       "    .dataframe tbody tr th {\n",
       "        vertical-align: top;\n",
       "    }\n",
       "\n",
       "    .dataframe thead th {\n",
       "        text-align: right;\n",
       "    }\n",
       "</style>\n",
       "<table border=\"1\" class=\"dataframe\">\n",
       "  <thead>\n",
       "    <tr style=\"text-align: right;\">\n",
       "      <th></th>\n",
       "      <th>Moment_R_L00</th>\n",
       "      <th>Moment_R_L01</th>\n",
       "      <th>Moment_R_L02</th>\n",
       "      <th>Moment_R_L10</th>\n",
       "      <th>Moment_R_L11</th>\n",
       "      <th>Moment_R_L12</th>\n",
       "      <th>Moment_R_L20</th>\n",
       "      <th>Moment_R_L21</th>\n",
       "      <th>Moment_R_L22</th>\n",
       "      <th>Moment_G_L00</th>\n",
       "      <th>...</th>\n",
       "      <th>Moment_B_L11</th>\n",
       "      <th>Moment_B_L12</th>\n",
       "      <th>Moment_B_L20</th>\n",
       "      <th>Moment_B_L21</th>\n",
       "      <th>Moment_B_L22</th>\n",
       "      <th>contrast</th>\n",
       "      <th>dissimilarity</th>\n",
       "      <th>homogeneity</th>\n",
       "      <th>energy</th>\n",
       "      <th>correlation</th>\n",
       "    </tr>\n",
       "  </thead>\n",
       "  <tbody>\n",
       "    <tr>\n",
       "      <th>0</th>\n",
       "      <td>0.000578</td>\n",
       "      <td>-3.125691</td>\n",
       "      <td>-16.983755</td>\n",
       "      <td>-29.627738</td>\n",
       "      <td>-2.659856</td>\n",
       "      <td>-8.371072</td>\n",
       "      <td>-74.668856</td>\n",
       "      <td>-11.351595</td>\n",
       "      <td>-69.762741</td>\n",
       "      <td>0.000637</td>\n",
       "      <td>...</td>\n",
       "      <td>4.689851</td>\n",
       "      <td>-15.172860</td>\n",
       "      <td>-13.917333</td>\n",
       "      <td>2.193507</td>\n",
       "      <td>-72.617370</td>\n",
       "      <td>465.386540</td>\n",
       "      <td>14.615087</td>\n",
       "      <td>0.106273</td>\n",
       "      <td>0.009928</td>\n",
       "      <td>0.954047</td>\n",
       "    </tr>\n",
       "    <tr>\n",
       "      <th>1</th>\n",
       "      <td>0.000148</td>\n",
       "      <td>6.620587</td>\n",
       "      <td>-57.724036</td>\n",
       "      <td>-5.835733</td>\n",
       "      <td>-6.146287</td>\n",
       "      <td>5.408704</td>\n",
       "      <td>-127.847081</td>\n",
       "      <td>-15.500430</td>\n",
       "      <td>-1.895868</td>\n",
       "      <td>0.000881</td>\n",
       "      <td>...</td>\n",
       "      <td>-3.553159</td>\n",
       "      <td>0.646947</td>\n",
       "      <td>-90.186046</td>\n",
       "      <td>-3.469786</td>\n",
       "      <td>-78.328826</td>\n",
       "      <td>304.521999</td>\n",
       "      <td>11.465017</td>\n",
       "      <td>0.147548</td>\n",
       "      <td>0.012939</td>\n",
       "      <td>0.970505</td>\n",
       "    </tr>\n",
       "    <tr>\n",
       "      <th>2</th>\n",
       "      <td>0.000189</td>\n",
       "      <td>23.620562</td>\n",
       "      <td>-51.707425</td>\n",
       "      <td>-32.906473</td>\n",
       "      <td>10.581304</td>\n",
       "      <td>5.893859</td>\n",
       "      <td>-74.381919</td>\n",
       "      <td>-44.328496</td>\n",
       "      <td>-60.476961</td>\n",
       "      <td>0.000311</td>\n",
       "      <td>...</td>\n",
       "      <td>21.263483</td>\n",
       "      <td>21.453625</td>\n",
       "      <td>-25.047003</td>\n",
       "      <td>-15.558758</td>\n",
       "      <td>-70.802885</td>\n",
       "      <td>516.337480</td>\n",
       "      <td>15.191007</td>\n",
       "      <td>0.102377</td>\n",
       "      <td>0.009613</td>\n",
       "      <td>0.948698</td>\n",
       "    </tr>\n",
       "    <tr>\n",
       "      <th>3</th>\n",
       "      <td>0.000311</td>\n",
       "      <td>-16.095788</td>\n",
       "      <td>-77.088365</td>\n",
       "      <td>-13.184954</td>\n",
       "      <td>1.303120</td>\n",
       "      <td>-4.938602</td>\n",
       "      <td>-117.251672</td>\n",
       "      <td>-0.052012</td>\n",
       "      <td>23.886053</td>\n",
       "      <td>0.000204</td>\n",
       "      <td>...</td>\n",
       "      <td>5.498728</td>\n",
       "      <td>-16.035910</td>\n",
       "      <td>-83.199683</td>\n",
       "      <td>-15.145891</td>\n",
       "      <td>-13.144988</td>\n",
       "      <td>751.802163</td>\n",
       "      <td>17.235548</td>\n",
       "      <td>0.121107</td>\n",
       "      <td>0.011567</td>\n",
       "      <td>0.926096</td>\n",
       "    </tr>\n",
       "    <tr>\n",
       "      <th>4</th>\n",
       "      <td>0.000411</td>\n",
       "      <td>6.413269</td>\n",
       "      <td>50.663407</td>\n",
       "      <td>67.091066</td>\n",
       "      <td>-33.535822</td>\n",
       "      <td>-42.954445</td>\n",
       "      <td>26.455474</td>\n",
       "      <td>-24.612728</td>\n",
       "      <td>-123.307385</td>\n",
       "      <td>0.000022</td>\n",
       "      <td>...</td>\n",
       "      <td>-16.815326</td>\n",
       "      <td>-35.783436</td>\n",
       "      <td>34.858271</td>\n",
       "      <td>-30.933713</td>\n",
       "      <td>-110.959324</td>\n",
       "      <td>136.559078</td>\n",
       "      <td>6.558796</td>\n",
       "      <td>0.219156</td>\n",
       "      <td>0.015555</td>\n",
       "      <td>0.987239</td>\n",
       "    </tr>\n",
       "  </tbody>\n",
       "</table>\n",
       "<p>5 rows × 32 columns</p>\n",
       "</div>"
      ],
      "text/plain": [
       "   Moment_R_L00  Moment_R_L01  Moment_R_L02  Moment_R_L10  Moment_R_L11  \\\n",
       "0      0.000578     -3.125691    -16.983755    -29.627738     -2.659856   \n",
       "1      0.000148      6.620587    -57.724036     -5.835733     -6.146287   \n",
       "2      0.000189     23.620562    -51.707425    -32.906473     10.581304   \n",
       "3      0.000311    -16.095788    -77.088365    -13.184954      1.303120   \n",
       "4      0.000411      6.413269     50.663407     67.091066    -33.535822   \n",
       "\n",
       "   Moment_R_L12  Moment_R_L20  Moment_R_L21  Moment_R_L22  Moment_G_L00  \\\n",
       "0     -8.371072    -74.668856    -11.351595    -69.762741      0.000637   \n",
       "1      5.408704   -127.847081    -15.500430     -1.895868      0.000881   \n",
       "2      5.893859    -74.381919    -44.328496    -60.476961      0.000311   \n",
       "3     -4.938602   -117.251672     -0.052012     23.886053      0.000204   \n",
       "4    -42.954445     26.455474    -24.612728   -123.307385      0.000022   \n",
       "\n",
       "      ...       Moment_B_L11  Moment_B_L12  Moment_B_L20  Moment_B_L21  \\\n",
       "0     ...           4.689851    -15.172860    -13.917333      2.193507   \n",
       "1     ...          -3.553159      0.646947    -90.186046     -3.469786   \n",
       "2     ...          21.263483     21.453625    -25.047003    -15.558758   \n",
       "3     ...           5.498728    -16.035910    -83.199683    -15.145891   \n",
       "4     ...         -16.815326    -35.783436     34.858271    -30.933713   \n",
       "\n",
       "   Moment_B_L22    contrast  dissimilarity  homogeneity    energy  correlation  \n",
       "0    -72.617370  465.386540      14.615087     0.106273  0.009928     0.954047  \n",
       "1    -78.328826  304.521999      11.465017     0.147548  0.012939     0.970505  \n",
       "2    -70.802885  516.337480      15.191007     0.102377  0.009613     0.948698  \n",
       "3    -13.144988  751.802163      17.235548     0.121107  0.011567     0.926096  \n",
       "4   -110.959324  136.559078       6.558796     0.219156  0.015555     0.987239  \n",
       "\n",
       "[5 rows x 32 columns]"
      ]
     },
     "execution_count": 508,
     "metadata": {},
     "output_type": "execute_result"
    }
   ],
   "source": [
    "df3.head()"
   ]
  },
  {
   "cell_type": "code",
   "execution_count": 509,
   "metadata": {},
   "outputs": [],
   "source": [
    "ids = pd.read_csv('image_ids.csv')"
   ]
  },
  {
   "cell_type": "code",
   "execution_count": 510,
   "metadata": {},
   "outputs": [],
   "source": [
    "ids = ids.drop(['lesion_id', 'dx', 'dx_type', 'age', 'sex', 'localization'], axis = 1)"
   ]
  },
  {
   "cell_type": "code",
   "execution_count": 511,
   "metadata": {},
   "outputs": [],
   "source": [
    "merge_df = df3.join(ids, how='outer')"
   ]
  },
  {
   "cell_type": "code",
   "execution_count": 512,
   "metadata": {},
   "outputs": [
    {
     "data": {
      "text/html": [
       "<div>\n",
       "<style scoped>\n",
       "    .dataframe tbody tr th:only-of-type {\n",
       "        vertical-align: middle;\n",
       "    }\n",
       "\n",
       "    .dataframe tbody tr th {\n",
       "        vertical-align: top;\n",
       "    }\n",
       "\n",
       "    .dataframe thead th {\n",
       "        text-align: right;\n",
       "    }\n",
       "</style>\n",
       "<table border=\"1\" class=\"dataframe\">\n",
       "  <thead>\n",
       "    <tr style=\"text-align: right;\">\n",
       "      <th></th>\n",
       "      <th>Moment_R_L00</th>\n",
       "      <th>Moment_R_L01</th>\n",
       "      <th>Moment_R_L02</th>\n",
       "      <th>Moment_R_L10</th>\n",
       "      <th>Moment_R_L11</th>\n",
       "      <th>Moment_R_L12</th>\n",
       "      <th>Moment_R_L20</th>\n",
       "      <th>Moment_R_L21</th>\n",
       "      <th>Moment_R_L22</th>\n",
       "      <th>Moment_G_L00</th>\n",
       "      <th>...</th>\n",
       "      <th>Moment_B_L12</th>\n",
       "      <th>Moment_B_L20</th>\n",
       "      <th>Moment_B_L21</th>\n",
       "      <th>Moment_B_L22</th>\n",
       "      <th>contrast</th>\n",
       "      <th>dissimilarity</th>\n",
       "      <th>homogeneity</th>\n",
       "      <th>energy</th>\n",
       "      <th>correlation</th>\n",
       "      <th>image_id</th>\n",
       "    </tr>\n",
       "  </thead>\n",
       "  <tbody>\n",
       "    <tr>\n",
       "      <th>0</th>\n",
       "      <td>0.000578</td>\n",
       "      <td>-3.125691</td>\n",
       "      <td>-16.983755</td>\n",
       "      <td>-29.627738</td>\n",
       "      <td>-2.659856</td>\n",
       "      <td>-8.371072</td>\n",
       "      <td>-74.668856</td>\n",
       "      <td>-11.351595</td>\n",
       "      <td>-69.762741</td>\n",
       "      <td>0.000637</td>\n",
       "      <td>...</td>\n",
       "      <td>-15.172860</td>\n",
       "      <td>-13.917333</td>\n",
       "      <td>2.193507</td>\n",
       "      <td>-72.617370</td>\n",
       "      <td>465.386540</td>\n",
       "      <td>14.615087</td>\n",
       "      <td>0.106273</td>\n",
       "      <td>0.009928</td>\n",
       "      <td>0.954047</td>\n",
       "      <td>ISIC_0027419</td>\n",
       "    </tr>\n",
       "    <tr>\n",
       "      <th>1</th>\n",
       "      <td>0.000148</td>\n",
       "      <td>6.620587</td>\n",
       "      <td>-57.724036</td>\n",
       "      <td>-5.835733</td>\n",
       "      <td>-6.146287</td>\n",
       "      <td>5.408704</td>\n",
       "      <td>-127.847081</td>\n",
       "      <td>-15.500430</td>\n",
       "      <td>-1.895868</td>\n",
       "      <td>0.000881</td>\n",
       "      <td>...</td>\n",
       "      <td>0.646947</td>\n",
       "      <td>-90.186046</td>\n",
       "      <td>-3.469786</td>\n",
       "      <td>-78.328826</td>\n",
       "      <td>304.521999</td>\n",
       "      <td>11.465017</td>\n",
       "      <td>0.147548</td>\n",
       "      <td>0.012939</td>\n",
       "      <td>0.970505</td>\n",
       "      <td>ISIC_0025030</td>\n",
       "    </tr>\n",
       "    <tr>\n",
       "      <th>2</th>\n",
       "      <td>0.000189</td>\n",
       "      <td>23.620562</td>\n",
       "      <td>-51.707425</td>\n",
       "      <td>-32.906473</td>\n",
       "      <td>10.581304</td>\n",
       "      <td>5.893859</td>\n",
       "      <td>-74.381919</td>\n",
       "      <td>-44.328496</td>\n",
       "      <td>-60.476961</td>\n",
       "      <td>0.000311</td>\n",
       "      <td>...</td>\n",
       "      <td>21.453625</td>\n",
       "      <td>-25.047003</td>\n",
       "      <td>-15.558758</td>\n",
       "      <td>-70.802885</td>\n",
       "      <td>516.337480</td>\n",
       "      <td>15.191007</td>\n",
       "      <td>0.102377</td>\n",
       "      <td>0.009613</td>\n",
       "      <td>0.948698</td>\n",
       "      <td>ISIC_0026769</td>\n",
       "    </tr>\n",
       "    <tr>\n",
       "      <th>3</th>\n",
       "      <td>0.000311</td>\n",
       "      <td>-16.095788</td>\n",
       "      <td>-77.088365</td>\n",
       "      <td>-13.184954</td>\n",
       "      <td>1.303120</td>\n",
       "      <td>-4.938602</td>\n",
       "      <td>-117.251672</td>\n",
       "      <td>-0.052012</td>\n",
       "      <td>23.886053</td>\n",
       "      <td>0.000204</td>\n",
       "      <td>...</td>\n",
       "      <td>-16.035910</td>\n",
       "      <td>-83.199683</td>\n",
       "      <td>-15.145891</td>\n",
       "      <td>-13.144988</td>\n",
       "      <td>751.802163</td>\n",
       "      <td>17.235548</td>\n",
       "      <td>0.121107</td>\n",
       "      <td>0.011567</td>\n",
       "      <td>0.926096</td>\n",
       "      <td>ISIC_0025661</td>\n",
       "    </tr>\n",
       "    <tr>\n",
       "      <th>4</th>\n",
       "      <td>0.000411</td>\n",
       "      <td>6.413269</td>\n",
       "      <td>50.663407</td>\n",
       "      <td>67.091066</td>\n",
       "      <td>-33.535822</td>\n",
       "      <td>-42.954445</td>\n",
       "      <td>26.455474</td>\n",
       "      <td>-24.612728</td>\n",
       "      <td>-123.307385</td>\n",
       "      <td>0.000022</td>\n",
       "      <td>...</td>\n",
       "      <td>-35.783436</td>\n",
       "      <td>34.858271</td>\n",
       "      <td>-30.933713</td>\n",
       "      <td>-110.959324</td>\n",
       "      <td>136.559078</td>\n",
       "      <td>6.558796</td>\n",
       "      <td>0.219156</td>\n",
       "      <td>0.015555</td>\n",
       "      <td>0.987239</td>\n",
       "      <td>ISIC_0031633</td>\n",
       "    </tr>\n",
       "  </tbody>\n",
       "</table>\n",
       "<p>5 rows × 33 columns</p>\n",
       "</div>"
      ],
      "text/plain": [
       "   Moment_R_L00  Moment_R_L01  Moment_R_L02  Moment_R_L10  Moment_R_L11  \\\n",
       "0      0.000578     -3.125691    -16.983755    -29.627738     -2.659856   \n",
       "1      0.000148      6.620587    -57.724036     -5.835733     -6.146287   \n",
       "2      0.000189     23.620562    -51.707425    -32.906473     10.581304   \n",
       "3      0.000311    -16.095788    -77.088365    -13.184954      1.303120   \n",
       "4      0.000411      6.413269     50.663407     67.091066    -33.535822   \n",
       "\n",
       "   Moment_R_L12  Moment_R_L20  Moment_R_L21  Moment_R_L22  Moment_G_L00  \\\n",
       "0     -8.371072    -74.668856    -11.351595    -69.762741      0.000637   \n",
       "1      5.408704   -127.847081    -15.500430     -1.895868      0.000881   \n",
       "2      5.893859    -74.381919    -44.328496    -60.476961      0.000311   \n",
       "3     -4.938602   -117.251672     -0.052012     23.886053      0.000204   \n",
       "4    -42.954445     26.455474    -24.612728   -123.307385      0.000022   \n",
       "\n",
       "       ...       Moment_B_L12  Moment_B_L20  Moment_B_L21  Moment_B_L22  \\\n",
       "0      ...         -15.172860    -13.917333      2.193507    -72.617370   \n",
       "1      ...           0.646947    -90.186046     -3.469786    -78.328826   \n",
       "2      ...          21.453625    -25.047003    -15.558758    -70.802885   \n",
       "3      ...         -16.035910    -83.199683    -15.145891    -13.144988   \n",
       "4      ...         -35.783436     34.858271    -30.933713   -110.959324   \n",
       "\n",
       "     contrast  dissimilarity  homogeneity    energy  correlation      image_id  \n",
       "0  465.386540      14.615087     0.106273  0.009928     0.954047  ISIC_0027419  \n",
       "1  304.521999      11.465017     0.147548  0.012939     0.970505  ISIC_0025030  \n",
       "2  516.337480      15.191007     0.102377  0.009613     0.948698  ISIC_0026769  \n",
       "3  751.802163      17.235548     0.121107  0.011567     0.926096  ISIC_0025661  \n",
       "4  136.559078       6.558796     0.219156  0.015555     0.987239  ISIC_0031633  \n",
       "\n",
       "[5 rows x 33 columns]"
      ]
     },
     "execution_count": 512,
     "metadata": {},
     "output_type": "execute_result"
    }
   ],
   "source": [
    "merge_df.head()"
   ]
  },
  {
   "cell_type": "code",
   "execution_count": 513,
   "metadata": {},
   "outputs": [],
   "source": [
    "df = merge_df.set_index('image_id').join(df.set_index('image_id'))"
   ]
  },
  {
   "cell_type": "code",
   "execution_count": 806,
   "metadata": {
    "scrolled": true
   },
   "outputs": [
    {
     "data": {
      "text/html": [
       "<div>\n",
       "<style scoped>\n",
       "    .dataframe tbody tr th:only-of-type {\n",
       "        vertical-align: middle;\n",
       "    }\n",
       "\n",
       "    .dataframe tbody tr th {\n",
       "        vertical-align: top;\n",
       "    }\n",
       "\n",
       "    .dataframe thead th {\n",
       "        text-align: right;\n",
       "    }\n",
       "</style>\n",
       "<table border=\"1\" class=\"dataframe\">\n",
       "  <thead>\n",
       "    <tr style=\"text-align: right;\">\n",
       "      <th></th>\n",
       "      <th>area</th>\n",
       "      <th>area_variance01</th>\n",
       "      <th>area_variance02</th>\n",
       "      <th>area_variance03</th>\n",
       "      <th>area_variance1</th>\n",
       "      <th>area_variance2</th>\n",
       "      <th>area_variance3</th>\n",
       "      <th>average_blue</th>\n",
       "      <th>average_blue2</th>\n",
       "      <th>average_green</th>\n",
       "      <th>...</th>\n",
       "      <th>nu03</th>\n",
       "      <th>nu12</th>\n",
       "      <th>nu20</th>\n",
       "      <th>nu21</th>\n",
       "      <th>nu30</th>\n",
       "      <th>perimeter</th>\n",
       "      <th>symmetry</th>\n",
       "      <th>dx</th>\n",
       "      <th>validation</th>\n",
       "      <th>malignant</th>\n",
       "    </tr>\n",
       "    <tr>\n",
       "      <th>image_id</th>\n",
       "      <th></th>\n",
       "      <th></th>\n",
       "      <th></th>\n",
       "      <th></th>\n",
       "      <th></th>\n",
       "      <th></th>\n",
       "      <th></th>\n",
       "      <th></th>\n",
       "      <th></th>\n",
       "      <th></th>\n",
       "      <th></th>\n",
       "      <th></th>\n",
       "      <th></th>\n",
       "      <th></th>\n",
       "      <th></th>\n",
       "      <th></th>\n",
       "      <th></th>\n",
       "      <th></th>\n",
       "      <th></th>\n",
       "      <th></th>\n",
       "      <th></th>\n",
       "    </tr>\n",
       "  </thead>\n",
       "  <tbody>\n",
       "    <tr>\n",
       "      <th>ISIC_0024306</th>\n",
       "      <td>55753.0</td>\n",
       "      <td>113.617597</td>\n",
       "      <td>184.429171</td>\n",
       "      <td>143.167927</td>\n",
       "      <td>85.325693</td>\n",
       "      <td>14.157758</td>\n",
       "      <td>29.372298</td>\n",
       "      <td>0.793936</td>\n",
       "      <td>214.742830</td>\n",
       "      <td>0.793936</td>\n",
       "      <td>...</td>\n",
       "      <td>-0.004953</td>\n",
       "      <td>-0.004660</td>\n",
       "      <td>0.066802</td>\n",
       "      <td>0.001744</td>\n",
       "      <td>0.001999</td>\n",
       "      <td>1175.283393</td>\n",
       "      <td>0.05628441306633003</td>\n",
       "      <td>nv</td>\n",
       "      <td>0</td>\n",
       "      <td>0</td>\n",
       "    </tr>\n",
       "    <tr>\n",
       "      <th>ISIC_0024307</th>\n",
       "      <td>51264.0</td>\n",
       "      <td>60.152981</td>\n",
       "      <td>150.014751</td>\n",
       "      <td>193.760493</td>\n",
       "      <td>83.918039</td>\n",
       "      <td>17.260601</td>\n",
       "      <td>12.629358</td>\n",
       "      <td>1.240442</td>\n",
       "      <td>216.408637</td>\n",
       "      <td>1.240442</td>\n",
       "      <td>...</td>\n",
       "      <td>-0.002422</td>\n",
       "      <td>0.006293</td>\n",
       "      <td>0.087290</td>\n",
       "      <td>0.001290</td>\n",
       "      <td>-0.005850</td>\n",
       "      <td>1348.253955</td>\n",
       "      <td>0.15352604100927575</td>\n",
       "      <td>nv</td>\n",
       "      <td>0</td>\n",
       "      <td>0</td>\n",
       "    </tr>\n",
       "    <tr>\n",
       "      <th>ISIC_0024308</th>\n",
       "      <td>80633.5</td>\n",
       "      <td>34.955079</td>\n",
       "      <td>181.790820</td>\n",
       "      <td>145.373889</td>\n",
       "      <td>69.106006</td>\n",
       "      <td>31.471933</td>\n",
       "      <td>36.710583</td>\n",
       "      <td>1.680835</td>\n",
       "      <td>211.505348</td>\n",
       "      <td>1.680835</td>\n",
       "      <td>...</td>\n",
       "      <td>0.002476</td>\n",
       "      <td>0.004335</td>\n",
       "      <td>0.140067</td>\n",
       "      <td>0.003432</td>\n",
       "      <td>-0.000241</td>\n",
       "      <td>1347.692555</td>\n",
       "      <td>0.056716459615777426</td>\n",
       "      <td>nv</td>\n",
       "      <td>0</td>\n",
       "      <td>0</td>\n",
       "    </tr>\n",
       "    <tr>\n",
       "      <th>ISIC_0024309</th>\n",
       "      <td>55425.5</td>\n",
       "      <td>173.797075</td>\n",
       "      <td>171.508705</td>\n",
       "      <td>152.693182</td>\n",
       "      <td>2.037120</td>\n",
       "      <td>13.166800</td>\n",
       "      <td>13.236745</td>\n",
       "      <td>1.625546</td>\n",
       "      <td>193.472681</td>\n",
       "      <td>1.625546</td>\n",
       "      <td>...</td>\n",
       "      <td>-0.002172</td>\n",
       "      <td>-0.002769</td>\n",
       "      <td>0.109403</td>\n",
       "      <td>0.004772</td>\n",
       "      <td>0.004881</td>\n",
       "      <td>1163.844795</td>\n",
       "      <td>0.10369413971984681</td>\n",
       "      <td>nv</td>\n",
       "      <td>0</td>\n",
       "      <td>0</td>\n",
       "    </tr>\n",
       "    <tr>\n",
       "      <th>ISIC_0024310</th>\n",
       "      <td>42664.5</td>\n",
       "      <td>53.887443</td>\n",
       "      <td>130.269553</td>\n",
       "      <td>158.705142</td>\n",
       "      <td>77.814072</td>\n",
       "      <td>32.021363</td>\n",
       "      <td>37.005539</td>\n",
       "      <td>0.812584</td>\n",
       "      <td>201.125259</td>\n",
       "      <td>0.812584</td>\n",
       "      <td>...</td>\n",
       "      <td>0.004127</td>\n",
       "      <td>0.006592</td>\n",
       "      <td>0.148071</td>\n",
       "      <td>-0.012777</td>\n",
       "      <td>-0.026188</td>\n",
       "      <td>1600.319971</td>\n",
       "      <td>0.2042172531130576</td>\n",
       "      <td>mel</td>\n",
       "      <td>0</td>\n",
       "      <td>1</td>\n",
       "    </tr>\n",
       "  </tbody>\n",
       "</table>\n",
       "<p>5 rows × 43 columns</p>\n",
       "</div>"
      ],
      "text/plain": [
       "                 area  area_variance01  area_variance02  area_variance03  \\\n",
       "image_id                                                                   \n",
       "ISIC_0024306  55753.0       113.617597       184.429171       143.167927   \n",
       "ISIC_0024307  51264.0        60.152981       150.014751       193.760493   \n",
       "ISIC_0024308  80633.5        34.955079       181.790820       145.373889   \n",
       "ISIC_0024309  55425.5       173.797075       171.508705       152.693182   \n",
       "ISIC_0024310  42664.5        53.887443       130.269553       158.705142   \n",
       "\n",
       "              area_variance1  area_variance2  area_variance3  average_blue  \\\n",
       "image_id                                                                     \n",
       "ISIC_0024306       85.325693       14.157758       29.372298      0.793936   \n",
       "ISIC_0024307       83.918039       17.260601       12.629358      1.240442   \n",
       "ISIC_0024308       69.106006       31.471933       36.710583      1.680835   \n",
       "ISIC_0024309        2.037120       13.166800       13.236745      1.625546   \n",
       "ISIC_0024310       77.814072       32.021363       37.005539      0.812584   \n",
       "\n",
       "              average_blue2  average_green    ...          nu03      nu12  \\\n",
       "image_id                                      ...                           \n",
       "ISIC_0024306     214.742830       0.793936    ...     -0.004953 -0.004660   \n",
       "ISIC_0024307     216.408637       1.240442    ...     -0.002422  0.006293   \n",
       "ISIC_0024308     211.505348       1.680835    ...      0.002476  0.004335   \n",
       "ISIC_0024309     193.472681       1.625546    ...     -0.002172 -0.002769   \n",
       "ISIC_0024310     201.125259       0.812584    ...      0.004127  0.006592   \n",
       "\n",
       "                  nu20      nu21      nu30    perimeter              symmetry  \\\n",
       "image_id                                                                        \n",
       "ISIC_0024306  0.066802  0.001744  0.001999  1175.283393   0.05628441306633003   \n",
       "ISIC_0024307  0.087290  0.001290 -0.005850  1348.253955   0.15352604100927575   \n",
       "ISIC_0024308  0.140067  0.003432 -0.000241  1347.692555  0.056716459615777426   \n",
       "ISIC_0024309  0.109403  0.004772  0.004881  1163.844795   0.10369413971984681   \n",
       "ISIC_0024310  0.148071 -0.012777 -0.026188  1600.319971    0.2042172531130576   \n",
       "\n",
       "               dx  validation  malignant  \n",
       "image_id                                  \n",
       "ISIC_0024306   nv           0          0  \n",
       "ISIC_0024307   nv           0          0  \n",
       "ISIC_0024308   nv           0          0  \n",
       "ISIC_0024309   nv           0          0  \n",
       "ISIC_0024310  mel           0          1  \n",
       "\n",
       "[5 rows x 43 columns]"
      ]
     },
     "execution_count": 806,
     "metadata": {},
     "output_type": "execute_result"
    }
   ],
   "source": [
    "df.head()"
   ]
  },
  {
   "cell_type": "code",
   "execution_count": 516,
   "metadata": {},
   "outputs": [],
   "source": [
    "df.to_csv('features_all_together.csv')"
   ]
  },
  {
   "cell_type": "code",
   "execution_count": 811,
   "metadata": {},
   "outputs": [],
   "source": [
    "df = df.dropna()"
   ]
  },
  {
   "cell_type": "code",
   "execution_count": 812,
   "metadata": {},
   "outputs": [],
   "source": [
    "df_train = df[df['validation'] == 0]\n",
    "df_test = df[df['validation'] == 1]\n",
    "\n",
    "y_train = pd.DataFrame(df_train['malignant'] == 1)\n",
    "y_test = pd.DataFrame(df_test['malignant'] == 1)"
   ]
  },
  {
   "cell_type": "markdown",
   "metadata": {},
   "source": [
    "# All numeric features"
   ]
  },
  {
   "cell_type": "code",
   "execution_count": 521,
   "metadata": {},
   "outputs": [
    {
     "data": {
      "text/html": [
       "<div>\n",
       "<style scoped>\n",
       "    .dataframe tbody tr th:only-of-type {\n",
       "        vertical-align: middle;\n",
       "    }\n",
       "\n",
       "    .dataframe tbody tr th {\n",
       "        vertical-align: top;\n",
       "    }\n",
       "\n",
       "    .dataframe thead th {\n",
       "        text-align: right;\n",
       "    }\n",
       "</style>\n",
       "<table border=\"1\" class=\"dataframe\">\n",
       "  <thead>\n",
       "    <tr style=\"text-align: right;\">\n",
       "      <th></th>\n",
       "      <th>Moment_R_L00</th>\n",
       "      <th>Moment_R_L01</th>\n",
       "      <th>Moment_R_L02</th>\n",
       "      <th>Moment_R_L10</th>\n",
       "      <th>Moment_R_L11</th>\n",
       "      <th>Moment_R_L12</th>\n",
       "      <th>Moment_R_L20</th>\n",
       "      <th>Moment_R_L21</th>\n",
       "      <th>Moment_R_L22</th>\n",
       "      <th>Moment_G_L00</th>\n",
       "      <th>...</th>\n",
       "      <th>nu03</th>\n",
       "      <th>nu12</th>\n",
       "      <th>nu20</th>\n",
       "      <th>nu21</th>\n",
       "      <th>nu30</th>\n",
       "      <th>perimeter</th>\n",
       "      <th>symmetry</th>\n",
       "      <th>dx</th>\n",
       "      <th>validation</th>\n",
       "      <th>malignant</th>\n",
       "    </tr>\n",
       "    <tr>\n",
       "      <th>image_id</th>\n",
       "      <th></th>\n",
       "      <th></th>\n",
       "      <th></th>\n",
       "      <th></th>\n",
       "      <th></th>\n",
       "      <th></th>\n",
       "      <th></th>\n",
       "      <th></th>\n",
       "      <th></th>\n",
       "      <th></th>\n",
       "      <th></th>\n",
       "      <th></th>\n",
       "      <th></th>\n",
       "      <th></th>\n",
       "      <th></th>\n",
       "      <th></th>\n",
       "      <th></th>\n",
       "      <th></th>\n",
       "      <th></th>\n",
       "      <th></th>\n",
       "      <th></th>\n",
       "    </tr>\n",
       "  </thead>\n",
       "  <tbody>\n",
       "    <tr>\n",
       "      <th>ISIC_0027419</th>\n",
       "      <td>0.000578</td>\n",
       "      <td>-3.125691</td>\n",
       "      <td>-16.983755</td>\n",
       "      <td>-29.627738</td>\n",
       "      <td>-2.659856</td>\n",
       "      <td>-8.371072</td>\n",
       "      <td>-74.668856</td>\n",
       "      <td>-11.351595</td>\n",
       "      <td>-69.762741</td>\n",
       "      <td>0.000637</td>\n",
       "      <td>...</td>\n",
       "      <td>0.014579</td>\n",
       "      <td>0.023919</td>\n",
       "      <td>0.061852</td>\n",
       "      <td>-0.006439</td>\n",
       "      <td>-0.005693</td>\n",
       "      <td>1179.165643</td>\n",
       "      <td>0.9770473925852277</td>\n",
       "      <td>bkl</td>\n",
       "      <td>1</td>\n",
       "      <td>0</td>\n",
       "    </tr>\n",
       "    <tr>\n",
       "      <th>ISIC_0025030</th>\n",
       "      <td>0.000148</td>\n",
       "      <td>6.620587</td>\n",
       "      <td>-57.724036</td>\n",
       "      <td>-5.835733</td>\n",
       "      <td>-6.146287</td>\n",
       "      <td>5.408704</td>\n",
       "      <td>-127.847081</td>\n",
       "      <td>-15.500430</td>\n",
       "      <td>-1.895868</td>\n",
       "      <td>0.000881</td>\n",
       "      <td>...</td>\n",
       "      <td>-0.048263</td>\n",
       "      <td>0.023418</td>\n",
       "      <td>0.125249</td>\n",
       "      <td>0.005926</td>\n",
       "      <td>-0.023605</td>\n",
       "      <td>481.480229</td>\n",
       "      <td>161.07803921906105</td>\n",
       "      <td>bkl</td>\n",
       "      <td>1</td>\n",
       "      <td>0</td>\n",
       "    </tr>\n",
       "    <tr>\n",
       "      <th>ISIC_0026769</th>\n",
       "      <td>0.000189</td>\n",
       "      <td>23.620562</td>\n",
       "      <td>-51.707425</td>\n",
       "      <td>-32.906473</td>\n",
       "      <td>10.581304</td>\n",
       "      <td>5.893859</td>\n",
       "      <td>-74.381919</td>\n",
       "      <td>-44.328496</td>\n",
       "      <td>-60.476961</td>\n",
       "      <td>0.000311</td>\n",
       "      <td>...</td>\n",
       "      <td>0.017578</td>\n",
       "      <td>-0.016207</td>\n",
       "      <td>0.202239</td>\n",
       "      <td>0.000484</td>\n",
       "      <td>0.014633</td>\n",
       "      <td>3052.164768</td>\n",
       "      <td>0.9591750731310495</td>\n",
       "      <td>bkl</td>\n",
       "      <td>0</td>\n",
       "      <td>0</td>\n",
       "    </tr>\n",
       "    <tr>\n",
       "      <th>ISIC_0025661</th>\n",
       "      <td>0.000311</td>\n",
       "      <td>-16.095788</td>\n",
       "      <td>-77.088365</td>\n",
       "      <td>-13.184954</td>\n",
       "      <td>1.303120</td>\n",
       "      <td>-4.938602</td>\n",
       "      <td>-117.251672</td>\n",
       "      <td>-0.052012</td>\n",
       "      <td>23.886053</td>\n",
       "      <td>0.000204</td>\n",
       "      <td>...</td>\n",
       "      <td>-0.056763</td>\n",
       "      <td>0.019802</td>\n",
       "      <td>0.081058</td>\n",
       "      <td>0.006778</td>\n",
       "      <td>-0.012322</td>\n",
       "      <td>494.492422</td>\n",
       "      <td>0.11282341025738685</td>\n",
       "      <td>bkl</td>\n",
       "      <td>0</td>\n",
       "      <td>0</td>\n",
       "    </tr>\n",
       "    <tr>\n",
       "      <th>ISIC_0031633</th>\n",
       "      <td>0.000411</td>\n",
       "      <td>6.413269</td>\n",
       "      <td>50.663407</td>\n",
       "      <td>67.091066</td>\n",
       "      <td>-33.535822</td>\n",
       "      <td>-42.954445</td>\n",
       "      <td>26.455474</td>\n",
       "      <td>-24.612728</td>\n",
       "      <td>-123.307385</td>\n",
       "      <td>0.000022</td>\n",
       "      <td>...</td>\n",
       "      <td>0.002529</td>\n",
       "      <td>-0.007409</td>\n",
       "      <td>0.124105</td>\n",
       "      <td>0.002641</td>\n",
       "      <td>0.002093</td>\n",
       "      <td>2153.106769</td>\n",
       "      <td>0.17135336578585886</td>\n",
       "      <td>bkl</td>\n",
       "      <td>0</td>\n",
       "      <td>0</td>\n",
       "    </tr>\n",
       "  </tbody>\n",
       "</table>\n",
       "<p>5 rows × 70 columns</p>\n",
       "</div>"
      ],
      "text/plain": [
       "              Moment_R_L00  Moment_R_L01  Moment_R_L02  Moment_R_L10  \\\n",
       "image_id                                                               \n",
       "ISIC_0027419      0.000578     -3.125691    -16.983755    -29.627738   \n",
       "ISIC_0025030      0.000148      6.620587    -57.724036     -5.835733   \n",
       "ISIC_0026769      0.000189     23.620562    -51.707425    -32.906473   \n",
       "ISIC_0025661      0.000311    -16.095788    -77.088365    -13.184954   \n",
       "ISIC_0031633      0.000411      6.413269     50.663407     67.091066   \n",
       "\n",
       "              Moment_R_L11  Moment_R_L12  Moment_R_L20  Moment_R_L21  \\\n",
       "image_id                                                               \n",
       "ISIC_0027419     -2.659856     -8.371072    -74.668856    -11.351595   \n",
       "ISIC_0025030     -6.146287      5.408704   -127.847081    -15.500430   \n",
       "ISIC_0026769     10.581304      5.893859    -74.381919    -44.328496   \n",
       "ISIC_0025661      1.303120     -4.938602   -117.251672     -0.052012   \n",
       "ISIC_0031633    -33.535822    -42.954445     26.455474    -24.612728   \n",
       "\n",
       "              Moment_R_L22  Moment_G_L00    ...          nu03      nu12  \\\n",
       "image_id                                    ...                           \n",
       "ISIC_0027419    -69.762741      0.000637    ...      0.014579  0.023919   \n",
       "ISIC_0025030     -1.895868      0.000881    ...     -0.048263  0.023418   \n",
       "ISIC_0026769    -60.476961      0.000311    ...      0.017578 -0.016207   \n",
       "ISIC_0025661     23.886053      0.000204    ...     -0.056763  0.019802   \n",
       "ISIC_0031633   -123.307385      0.000022    ...      0.002529 -0.007409   \n",
       "\n",
       "                  nu20      nu21      nu30    perimeter             symmetry  \\\n",
       "image_id                                                                       \n",
       "ISIC_0027419  0.061852 -0.006439 -0.005693  1179.165643   0.9770473925852277   \n",
       "ISIC_0025030  0.125249  0.005926 -0.023605   481.480229   161.07803921906105   \n",
       "ISIC_0026769  0.202239  0.000484  0.014633  3052.164768   0.9591750731310495   \n",
       "ISIC_0025661  0.081058  0.006778 -0.012322   494.492422  0.11282341025738685   \n",
       "ISIC_0031633  0.124105  0.002641  0.002093  2153.106769  0.17135336578585886   \n",
       "\n",
       "               dx  validation  malignant  \n",
       "image_id                                  \n",
       "ISIC_0027419  bkl           1          0  \n",
       "ISIC_0025030  bkl           1          0  \n",
       "ISIC_0026769  bkl           0          0  \n",
       "ISIC_0025661  bkl           0          0  \n",
       "ISIC_0031633  bkl           0          0  \n",
       "\n",
       "[5 rows x 70 columns]"
      ]
     },
     "execution_count": 521,
     "metadata": {},
     "output_type": "execute_result"
    }
   ],
   "source": [
    "df.head()"
   ]
  },
  {
   "cell_type": "code",
   "execution_count": 938,
   "metadata": {},
   "outputs": [],
   "source": [
    "X_train = df_train.drop(['dx', 'validation', 'malignant'], axis = 1)\n",
    "\n",
    "X_test = df_test.drop(['dx', 'validation', 'malignant'], axis = 1)"
   ]
  },
  {
   "cell_type": "code",
   "execution_count": 989,
   "metadata": {},
   "outputs": [],
   "source": [
    "X_train = df_train.drop(['dx', 'validation', 'malignant', 'image_id'], axis = 1)\n",
    "\n",
    "X_test = df_test.drop(['dx', 'validation', 'malignant','image_id'], axis = 1)"
   ]
  },
  {
   "cell_type": "code",
   "execution_count": 990,
   "metadata": {},
   "outputs": [
    {
     "name": "stderr",
     "output_type": "stream",
     "text": [
      "/anaconda3/lib/python3.6/site-packages/numpy/core/_methods.py:36: RuntimeWarning: overflow encountered in reduce\n",
      "  return umr_sum(a, axis, dtype, out, keepdims, initial)\n",
      "/anaconda3/lib/python3.6/site-packages/sklearn/preprocessing/data.py:323: DataConversionWarning: Data with input dtype float64, object were all converted to float64 by MinMaxScaler.\n",
      "  return self.partial_fit(X, y)\n",
      "/anaconda3/lib/python3.6/site-packages/numpy/core/_methods.py:36: RuntimeWarning: overflow encountered in reduce\n",
      "  return umr_sum(a, axis, dtype, out, keepdims, initial)\n",
      "/anaconda3/lib/python3.6/site-packages/numpy/core/_methods.py:36: RuntimeWarning: overflow encountered in reduce\n",
      "  return umr_sum(a, axis, dtype, out, keepdims, initial)\n",
      "/anaconda3/lib/python3.6/site-packages/sklearn/preprocessing/data.py:323: DataConversionWarning: Data with input dtype float64, object were all converted to float64 by MinMaxScaler.\n",
      "  return self.partial_fit(X, y)\n",
      "/anaconda3/lib/python3.6/site-packages/numpy/core/_methods.py:36: RuntimeWarning: overflow encountered in reduce\n",
      "  return umr_sum(a, axis, dtype, out, keepdims, initial)\n"
     ]
    }
   ],
   "source": [
    "min_max_scaler = preprocessing.MinMaxScaler()\n",
    "\n",
    "X_train = pd.DataFrame(min_max_scaler.fit_transform(X_train), columns=X_train.columns)\n",
    "X_test = pd.DataFrame(min_max_scaler.fit_transform(X_test), columns=X_test.columns)"
   ]
  },
  {
   "cell_type": "code",
   "execution_count": 991,
   "metadata": {},
   "outputs": [],
   "source": [
    "X_train = preprocessing.scale(X_train)\n",
    "X_test  = preprocessing.scale(X_test)"
   ]
  },
  {
   "cell_type": "code",
   "execution_count": 992,
   "metadata": {},
   "outputs": [],
   "source": [
    "#https://www.youtube.com/watch?v=RXFnwCRb-is\n",
    "\n",
    "from sklearn.feature_selection import SelectKBest\n",
    "\n",
    "select = SelectKBest(f_classif , k=30)\n",
    "select.fit(X_train, np.ravel(y_train))\n",
    "X_train = pd.DataFrame(select.transform(X_train))\n",
    "X_test = pd.DataFrame(select.transform(X_test))"
   ]
  },
  {
   "cell_type": "code",
   "execution_count": 142,
   "metadata": {},
   "outputs": [],
   "source": [
    "#This is only needed if we don't have a validation set splitting given\n",
    "#X_train, X_test, y_train, y_test = train_test_split(df_feat, np.ravel(df_target), test_size=0.30, random_state=101)"
   ]
  },
  {
   "cell_type": "code",
   "execution_count": 993,
   "metadata": {
    "scrolled": true
   },
   "outputs": [
    {
     "data": {
      "text/plain": [
       "SVC(C=50, cache_size=200, class_weight=None, coef0=0.0,\n",
       "  decision_function_shape='ovr', degree=3, gamma='scale', kernel='rbf',\n",
       "  max_iter=-1, probability=True, random_state=None, shrinking=True,\n",
       "  tol=0.001, verbose=False)"
      ]
     },
     "execution_count": 993,
     "metadata": {},
     "output_type": "execute_result"
    }
   ],
   "source": [
    "model.fit(X_train,np.ravel(y_train))"
   ]
  },
  {
   "cell_type": "code",
   "execution_count": 994,
   "metadata": {},
   "outputs": [],
   "source": [
    "predictions = model.predict(X_test)"
   ]
  },
  {
   "cell_type": "code",
   "execution_count": 998,
   "metadata": {},
   "outputs": [],
   "source": [
    "prediction_probabilities = model.predict_proba(X_test)"
   ]
  },
  {
   "cell_type": "code",
   "execution_count": 999,
   "metadata": {},
   "outputs": [
    {
     "data": {
      "text/plain": [
       "array([[0.80410834, 0.19589166],\n",
       "       [0.77326374, 0.22673626],\n",
       "       [0.54034837, 0.45965163],\n",
       "       ...,\n",
       "       [0.93946062, 0.06053938],\n",
       "       [0.71986354, 0.28013646],\n",
       "       [0.66007318, 0.33992682]])"
      ]
     },
     "execution_count": 999,
     "metadata": {},
     "output_type": "execute_result"
    }
   ],
   "source": [
    "prediction_probabilities"
   ]
  },
  {
   "cell_type": "code",
   "execution_count": 1000,
   "metadata": {},
   "outputs": [],
   "source": [
    "result = pd.DataFrame(prediction_probabilities)"
   ]
  },
  {
   "cell_type": "code",
   "execution_count": 1002,
   "metadata": {
    "scrolled": false
   },
   "outputs": [
    {
     "data": {
      "text/html": [
       "<div>\n",
       "<style scoped>\n",
       "    .dataframe tbody tr th:only-of-type {\n",
       "        vertical-align: middle;\n",
       "    }\n",
       "\n",
       "    .dataframe tbody tr th {\n",
       "        vertical-align: top;\n",
       "    }\n",
       "\n",
       "    .dataframe thead th {\n",
       "        text-align: right;\n",
       "    }\n",
       "</style>\n",
       "<table border=\"1\" class=\"dataframe\">\n",
       "  <thead>\n",
       "    <tr style=\"text-align: right;\">\n",
       "      <th></th>\n",
       "      <th>0</th>\n",
       "      <th>1</th>\n",
       "    </tr>\n",
       "  </thead>\n",
       "  <tbody>\n",
       "    <tr>\n",
       "      <th>0</th>\n",
       "      <td>0.804108</td>\n",
       "      <td>0.195892</td>\n",
       "    </tr>\n",
       "    <tr>\n",
       "      <th>1</th>\n",
       "      <td>0.773264</td>\n",
       "      <td>0.226736</td>\n",
       "    </tr>\n",
       "    <tr>\n",
       "      <th>2</th>\n",
       "      <td>0.540348</td>\n",
       "      <td>0.459652</td>\n",
       "    </tr>\n",
       "    <tr>\n",
       "      <th>3</th>\n",
       "      <td>0.840546</td>\n",
       "      <td>0.159454</td>\n",
       "    </tr>\n",
       "    <tr>\n",
       "      <th>4</th>\n",
       "      <td>0.961247</td>\n",
       "      <td>0.038753</td>\n",
       "    </tr>\n",
       "  </tbody>\n",
       "</table>\n",
       "</div>"
      ],
      "text/plain": [
       "          0         1\n",
       "0  0.804108  0.195892\n",
       "1  0.773264  0.226736\n",
       "2  0.540348  0.459652\n",
       "3  0.840546  0.159454\n",
       "4  0.961247  0.038753"
      ]
     },
     "execution_count": 1002,
     "metadata": {},
     "output_type": "execute_result"
    }
   ],
   "source": [
    "result.head()"
   ]
  },
  {
   "cell_type": "code",
   "execution_count": 1010,
   "metadata": {},
   "outputs": [],
   "source": [
    "image_label = pd.DataFrame(df_test['image_id'])"
   ]
  },
  {
   "cell_type": "code",
   "execution_count": 1003,
   "metadata": {},
   "outputs": [],
   "source": [
    "image_label= image_label.reset_index(drop=True)"
   ]
  },
  {
   "cell_type": "code",
   "execution_count": 1011,
   "metadata": {},
   "outputs": [
    {
     "data": {
      "text/html": [
       "<div>\n",
       "<style scoped>\n",
       "    .dataframe tbody tr th:only-of-type {\n",
       "        vertical-align: middle;\n",
       "    }\n",
       "\n",
       "    .dataframe tbody tr th {\n",
       "        vertical-align: top;\n",
       "    }\n",
       "\n",
       "    .dataframe thead th {\n",
       "        text-align: right;\n",
       "    }\n",
       "</style>\n",
       "<table border=\"1\" class=\"dataframe\">\n",
       "  <thead>\n",
       "    <tr style=\"text-align: right;\">\n",
       "      <th></th>\n",
       "      <th>image_id</th>\n",
       "    </tr>\n",
       "  </thead>\n",
       "  <tbody>\n",
       "    <tr>\n",
       "      <th>6</th>\n",
       "      <td>ISIC_0024312</td>\n",
       "    </tr>\n",
       "    <tr>\n",
       "      <th>11</th>\n",
       "      <td>ISIC_0024317</td>\n",
       "    </tr>\n",
       "    <tr>\n",
       "      <th>12</th>\n",
       "      <td>ISIC_0024318</td>\n",
       "    </tr>\n",
       "    <tr>\n",
       "      <th>18</th>\n",
       "      <td>ISIC_0024324</td>\n",
       "    </tr>\n",
       "    <tr>\n",
       "      <th>22</th>\n",
       "      <td>ISIC_0024328</td>\n",
       "    </tr>\n",
       "  </tbody>\n",
       "</table>\n",
       "</div>"
      ],
      "text/plain": [
       "        image_id\n",
       "6   ISIC_0024312\n",
       "11  ISIC_0024317\n",
       "12  ISIC_0024318\n",
       "18  ISIC_0024324\n",
       "22  ISIC_0024328"
      ]
     },
     "execution_count": 1011,
     "metadata": {},
     "output_type": "execute_result"
    }
   ],
   "source": [
    "image_label.head()"
   ]
  },
  {
   "cell_type": "code",
   "execution_count": 1005,
   "metadata": {},
   "outputs": [],
   "source": [
    "to_csv = image_label.join(result, how='outer')"
   ]
  },
  {
   "cell_type": "code",
   "execution_count": 1008,
   "metadata": {},
   "outputs": [],
   "source": [
    "to_csv.to_csv('binary_classification', index = False)"
   ]
  },
  {
   "cell_type": "code",
   "execution_count": 1009,
   "metadata": {},
   "outputs": [
    {
     "data": {
      "text/html": [
       "<div>\n",
       "<style scoped>\n",
       "    .dataframe tbody tr th:only-of-type {\n",
       "        vertical-align: middle;\n",
       "    }\n",
       "\n",
       "    .dataframe tbody tr th {\n",
       "        vertical-align: top;\n",
       "    }\n",
       "\n",
       "    .dataframe thead th {\n",
       "        text-align: right;\n",
       "    }\n",
       "</style>\n",
       "<table border=\"1\" class=\"dataframe\">\n",
       "  <thead>\n",
       "    <tr style=\"text-align: right;\">\n",
       "      <th></th>\n",
       "      <th>image_id</th>\n",
       "      <th>0</th>\n",
       "      <th>1</th>\n",
       "    </tr>\n",
       "  </thead>\n",
       "  <tbody>\n",
       "    <tr>\n",
       "      <th>0</th>\n",
       "      <td>ISIC_0024312</td>\n",
       "      <td>0.804108</td>\n",
       "      <td>0.195892</td>\n",
       "    </tr>\n",
       "    <tr>\n",
       "      <th>1</th>\n",
       "      <td>ISIC_0024317</td>\n",
       "      <td>0.773264</td>\n",
       "      <td>0.226736</td>\n",
       "    </tr>\n",
       "    <tr>\n",
       "      <th>2</th>\n",
       "      <td>ISIC_0024318</td>\n",
       "      <td>0.540348</td>\n",
       "      <td>0.459652</td>\n",
       "    </tr>\n",
       "    <tr>\n",
       "      <th>3</th>\n",
       "      <td>ISIC_0024324</td>\n",
       "      <td>0.840546</td>\n",
       "      <td>0.159454</td>\n",
       "    </tr>\n",
       "    <tr>\n",
       "      <th>4</th>\n",
       "      <td>ISIC_0024328</td>\n",
       "      <td>0.961247</td>\n",
       "      <td>0.038753</td>\n",
       "    </tr>\n",
       "  </tbody>\n",
       "</table>\n",
       "</div>"
      ],
      "text/plain": [
       "       image_id         0         1\n",
       "0  ISIC_0024312  0.804108  0.195892\n",
       "1  ISIC_0024317  0.773264  0.226736\n",
       "2  ISIC_0024318  0.540348  0.459652\n",
       "3  ISIC_0024324  0.840546  0.159454\n",
       "4  ISIC_0024328  0.961247  0.038753"
      ]
     },
     "execution_count": 1009,
     "metadata": {},
     "output_type": "execute_result"
    }
   ],
   "source": [
    "to_csv.head()"
   ]
  },
  {
   "cell_type": "code",
   "execution_count": 995,
   "metadata": {
    "scrolled": true
   },
   "outputs": [
    {
     "name": "stdout",
     "output_type": "stream",
     "text": [
      "[[1772  246]\n",
      " [ 281  212]]\n"
     ]
    }
   ],
   "source": [
    "confusion = confusion_matrix(y_test,predictions)\n",
    "print(confusion)\n"
   ]
  },
  {
   "cell_type": "code",
   "execution_count": 981,
   "metadata": {
    "scrolled": false
   },
   "outputs": [],
   "source": [
    "#print(classification_report(y_test,predictions))"
   ]
  },
  {
   "cell_type": "code",
   "execution_count": 997,
   "metadata": {},
   "outputs": [
    {
     "name": "stdout",
     "output_type": "stream",
     "text": [
      "0.7901234567901234\n",
      "0.2098765432098766\n",
      "[0.87809713 0.43002028]\n",
      "[0.86312713 0.4628821 ]\n",
      "[0.87054778 0.44584648]\n"
     ]
    }
   ],
   "source": [
    "print(metrics.accuracy_score(y_test, predictions)) #accuracy\n",
    "print(1 - metrics.accuracy_score(y_test, predictions)) # classification error\n",
    "print(metrics.recall_score(y_test, predictions, average=None)) #specificity and sensitivity\n",
    "print(metrics.precision_score(y_test, predictions, average=None))\n",
    "print(metrics.f1_score(y_test, predictions, average=None))"
   ]
  },
  {
   "cell_type": "code",
   "execution_count": 824,
   "metadata": {},
   "outputs": [],
   "source": [
    "predictions = model.predict(X_train)"
   ]
  },
  {
   "cell_type": "markdown",
   "metadata": {},
   "source": [
    "Check with train data if overfitting?"
   ]
  },
  {
   "cell_type": "code",
   "execution_count": 825,
   "metadata": {},
   "outputs": [
    {
     "name": "stdout",
     "output_type": "stream",
     "text": [
      "[[5943  100]\n",
      " [ 481  980]]\n"
     ]
    }
   ],
   "source": [
    "print(confusion_matrix(y_train,predictions))"
   ]
  },
  {
   "cell_type": "code",
   "execution_count": 826,
   "metadata": {},
   "outputs": [
    {
     "name": "stdout",
     "output_type": "stream",
     "text": [
      "              precision    recall  f1-score   support\n",
      "\n",
      "       False       0.93      0.98      0.95      6043\n",
      "        True       0.91      0.67      0.77      1461\n",
      "\n",
      "   micro avg       0.92      0.92      0.92      7504\n",
      "   macro avg       0.92      0.83      0.86      7504\n",
      "weighted avg       0.92      0.92      0.92      7504\n",
      "\n"
     ]
    }
   ],
   "source": [
    "print(classification_report(y_train,predictions))"
   ]
  },
  {
   "cell_type": "markdown",
   "metadata": {},
   "source": [
    "# Gridsearch"
   ]
  },
  {
   "cell_type": "code",
   "execution_count": 468,
   "metadata": {},
   "outputs": [],
   "source": [
    "param_grid = {'C': [1, 10, 100, 1000], 'gamma': [100,10,1,0.1,0.01, 'scale'], 'kernel': ['rbf']} "
   ]
  },
  {
   "cell_type": "code",
   "execution_count": 469,
   "metadata": {},
   "outputs": [],
   "source": [
    "from sklearn.model_selection import GridSearchCV"
   ]
  },
  {
   "cell_type": "code",
   "execution_count": 470,
   "metadata": {},
   "outputs": [],
   "source": [
    "grid = GridSearchCV(SVC(),param_grid,refit=True,verbose=3)"
   ]
  },
  {
   "cell_type": "code",
   "execution_count": 471,
   "metadata": {
    "scrolled": true
   },
   "outputs": [
    {
     "name": "stderr",
     "output_type": "stream",
     "text": [
      "/anaconda3/lib/python3.6/site-packages/sklearn/model_selection/_split.py:2053: FutureWarning: You should specify a value for 'cv' instead of relying on the default value. The default value will change from 3 to 5 in version 0.22.\n",
      "  warnings.warn(CV_WARNING, FutureWarning)\n",
      "[Parallel(n_jobs=1)]: Using backend SequentialBackend with 1 concurrent workers.\n"
     ]
    },
    {
     "name": "stdout",
     "output_type": "stream",
     "text": [
      "Fitting 3 folds for each of 24 candidates, totalling 72 fits\n",
      "[CV] C=1, gamma=100, kernel=rbf ......................................\n",
      "[CV]  C=1, gamma=100, kernel=rbf, score=0.8053557154276578, total=   2.4s\n",
      "[CV] C=1, gamma=100, kernel=rbf ......................................\n"
     ]
    },
    {
     "name": "stderr",
     "output_type": "stream",
     "text": [
      "[Parallel(n_jobs=1)]: Done   1 out of   1 | elapsed:    3.8s remaining:    0.0s\n"
     ]
    },
    {
     "name": "stdout",
     "output_type": "stream",
     "text": [
      "[CV]  C=1, gamma=100, kernel=rbf, score=0.8052778888444622, total=   2.3s\n",
      "[CV] C=1, gamma=100, kernel=rbf ......................................\n"
     ]
    },
    {
     "name": "stderr",
     "output_type": "stream",
     "text": [
      "[Parallel(n_jobs=1)]: Done   2 out of   2 | elapsed:    7.6s remaining:    0.0s\n"
     ]
    },
    {
     "name": "stdout",
     "output_type": "stream",
     "text": [
      "[CV]  C=1, gamma=100, kernel=rbf, score=0.8052778888444622, total=   2.3s\n",
      "[CV] C=1, gamma=10, kernel=rbf .......................................\n",
      "[CV]  C=1, gamma=10, kernel=rbf, score=0.8053557154276578, total=   3.4s\n",
      "[CV] C=1, gamma=10, kernel=rbf .......................................\n",
      "[CV]  C=1, gamma=10, kernel=rbf, score=0.8052778888444622, total=   3.2s\n",
      "[CV] C=1, gamma=10, kernel=rbf .......................................\n",
      "[CV]  C=1, gamma=10, kernel=rbf, score=0.8052778888444622, total=   3.1s\n",
      "[CV] C=1, gamma=1, kernel=rbf ........................................\n",
      "[CV]  C=1, gamma=1, kernel=rbf, score=0.8053557154276578, total=   3.6s\n",
      "[CV] C=1, gamma=1, kernel=rbf ........................................\n",
      "[CV]  C=1, gamma=1, kernel=rbf, score=0.8052778888444622, total=   3.7s\n",
      "[CV] C=1, gamma=1, kernel=rbf ........................................\n",
      "[CV]  C=1, gamma=1, kernel=rbf, score=0.8052778888444622, total=   3.7s\n",
      "[CV] C=1, gamma=0.1, kernel=rbf ......................................\n",
      "[CV]  C=1, gamma=0.1, kernel=rbf, score=0.7957633892885692, total=   2.8s\n",
      "[CV] C=1, gamma=0.1, kernel=rbf ......................................\n",
      "[CV]  C=1, gamma=0.1, kernel=rbf, score=0.8068772491003599, total=   3.2s\n",
      "[CV] C=1, gamma=0.1, kernel=rbf ......................................\n",
      "[CV]  C=1, gamma=0.1, kernel=rbf, score=0.6653338664534186, total=   2.7s\n",
      "[CV] C=1, gamma=0.01, kernel=rbf .....................................\n",
      "[CV]  C=1, gamma=0.01, kernel=rbf, score=0.7278177458033573, total=   1.2s\n",
      "[CV] C=1, gamma=0.01, kernel=rbf .....................................\n",
      "[CV]  C=1, gamma=0.01, kernel=rbf, score=0.8112754898040784, total=   1.5s\n",
      "[CV] C=1, gamma=0.01, kernel=rbf .....................................\n",
      "[CV]  C=1, gamma=0.01, kernel=rbf, score=0.4398240703718513, total=   1.2s\n",
      "[CV] C=1, gamma=scale, kernel=rbf ....................................\n",
      "[CV]  C=1, gamma=scale, kernel=rbf, score=0.7254196642685852, total=   1.3s\n",
      "[CV] C=1, gamma=scale, kernel=rbf ....................................\n",
      "[CV]  C=1, gamma=scale, kernel=rbf, score=0.8156737305077969, total=   1.5s\n",
      "[CV] C=1, gamma=scale, kernel=rbf ....................................\n",
      "[CV]  C=1, gamma=scale, kernel=rbf, score=0.445421831267493, total=   1.9s\n",
      "[CV] C=10, gamma=100, kernel=rbf .....................................\n",
      "[CV]  C=10, gamma=100, kernel=rbf, score=0.8053557154276578, total=   3.4s\n",
      "[CV] C=10, gamma=100, kernel=rbf .....................................\n",
      "[CV]  C=10, gamma=100, kernel=rbf, score=0.8052778888444622, total=   2.6s\n",
      "[CV] C=10, gamma=100, kernel=rbf .....................................\n",
      "[CV]  C=10, gamma=100, kernel=rbf, score=0.8052778888444622, total=   2.7s\n",
      "[CV] C=10, gamma=10, kernel=rbf ......................................\n",
      "[CV]  C=10, gamma=10, kernel=rbf, score=0.8053557154276578, total=   3.5s\n",
      "[CV] C=10, gamma=10, kernel=rbf ......................................\n",
      "[CV]  C=10, gamma=10, kernel=rbf, score=0.8052778888444622, total=   3.4s\n",
      "[CV] C=10, gamma=10, kernel=rbf ......................................\n",
      "[CV]  C=10, gamma=10, kernel=rbf, score=0.8052778888444622, total=   3.4s\n",
      "[CV] C=10, gamma=1, kernel=rbf .......................................\n",
      "[CV]  C=10, gamma=1, kernel=rbf, score=0.8053557154276578, total=   4.5s\n",
      "[CV] C=10, gamma=1, kernel=rbf .......................................\n",
      "[CV]  C=10, gamma=1, kernel=rbf, score=0.8052778888444622, total=   5.4s\n",
      "[CV] C=10, gamma=1, kernel=rbf .......................................\n",
      "[CV]  C=10, gamma=1, kernel=rbf, score=0.8052778888444622, total=   4.5s\n",
      "[CV] C=10, gamma=0.1, kernel=rbf .....................................\n",
      "[CV]  C=10, gamma=0.1, kernel=rbf, score=0.7881694644284573, total=   3.0s\n",
      "[CV] C=10, gamma=0.1, kernel=rbf .....................................\n",
      "[CV]  C=10, gamma=0.1, kernel=rbf, score=0.8096761295481807, total=   3.1s\n",
      "[CV] C=10, gamma=0.1, kernel=rbf .....................................\n",
      "[CV]  C=10, gamma=0.1, kernel=rbf, score=0.641343462614954, total=   3.1s\n",
      "[CV] C=10, gamma=0.01, kernel=rbf ....................................\n",
      "[CV]  C=10, gamma=0.01, kernel=rbf, score=0.7102318145483613, total=   1.3s\n",
      "[CV] C=10, gamma=0.01, kernel=rbf ....................................\n",
      "[CV]  C=10, gamma=0.01, kernel=rbf, score=0.8428628548580568, total=   1.8s\n",
      "[CV] C=10, gamma=0.01, kernel=rbf ....................................\n",
      "[CV]  C=10, gamma=0.01, kernel=rbf, score=0.4450219912035186, total=   1.2s\n",
      "[CV] C=10, gamma=scale, kernel=rbf ...................................\n",
      "[CV]  C=10, gamma=scale, kernel=rbf, score=0.7110311750599521, total=   1.6s\n",
      "[CV] C=10, gamma=scale, kernel=rbf ...................................\n",
      "[CV]  C=10, gamma=scale, kernel=rbf, score=0.8480607756897242, total=   2.0s\n",
      "[CV] C=10, gamma=scale, kernel=rbf ...................................\n",
      "[CV]  C=10, gamma=scale, kernel=rbf, score=0.4566173530587765, total=   1.4s\n",
      "[CV] C=100, gamma=100, kernel=rbf ....................................\n",
      "[CV]  C=100, gamma=100, kernel=rbf, score=0.8053557154276578, total=   2.7s\n",
      "[CV] C=100, gamma=100, kernel=rbf ....................................\n",
      "[CV]  C=100, gamma=100, kernel=rbf, score=0.8052778888444622, total=   2.6s\n",
      "[CV] C=100, gamma=100, kernel=rbf ....................................\n",
      "[CV]  C=100, gamma=100, kernel=rbf, score=0.8052778888444622, total=   2.6s\n",
      "[CV] C=100, gamma=10, kernel=rbf .....................................\n",
      "[CV]  C=100, gamma=10, kernel=rbf, score=0.8053557154276578, total=   3.4s\n",
      "[CV] C=100, gamma=10, kernel=rbf .....................................\n",
      "[CV]  C=100, gamma=10, kernel=rbf, score=0.8052778888444622, total=   3.6s\n",
      "[CV] C=100, gamma=10, kernel=rbf .....................................\n",
      "[CV]  C=100, gamma=10, kernel=rbf, score=0.8052778888444622, total=   3.5s\n",
      "[CV] C=100, gamma=1, kernel=rbf ......................................\n",
      "[CV]  C=100, gamma=1, kernel=rbf, score=0.8053557154276578, total=   4.5s\n",
      "[CV] C=100, gamma=1, kernel=rbf ......................................\n",
      "[CV]  C=100, gamma=1, kernel=rbf, score=0.8052778888444622, total=   4.5s\n",
      "[CV] C=100, gamma=1, kernel=rbf ......................................\n",
      "[CV]  C=100, gamma=1, kernel=rbf, score=0.8052778888444622, total=   4.7s\n",
      "[CV] C=100, gamma=0.1, kernel=rbf ....................................\n",
      "[CV]  C=100, gamma=0.1, kernel=rbf, score=0.7881694644284573, total=   3.1s\n",
      "[CV] C=100, gamma=0.1, kernel=rbf ....................................\n",
      "[CV]  C=100, gamma=0.1, kernel=rbf, score=0.8096761295481807, total=   3.2s\n",
      "[CV] C=100, gamma=0.1, kernel=rbf ....................................\n",
      "[CV]  C=100, gamma=0.1, kernel=rbf, score=0.641343462614954, total=   3.0s\n",
      "[CV] C=100, gamma=0.01, kernel=rbf ...................................\n",
      "[CV]  C=100, gamma=0.01, kernel=rbf, score=0.6954436450839329, total=   2.1s\n",
      "[CV] C=100, gamma=0.01, kernel=rbf ...................................\n",
      "[CV]  C=100, gamma=0.01, kernel=rbf, score=0.8536585365853658, total=   3.2s\n",
      "[CV] C=100, gamma=0.01, kernel=rbf ...................................\n",
      "[CV]  C=100, gamma=0.01, kernel=rbf, score=0.46781287485005996, total=   1.6s\n",
      "[CV] C=100, gamma=scale, kernel=rbf ..................................\n",
      "[CV]  C=100, gamma=scale, kernel=rbf, score=0.7022382094324541, total=   1.7s\n",
      "[CV] C=100, gamma=scale, kernel=rbf ..................................\n",
      "[CV]  C=100, gamma=scale, kernel=rbf, score=0.8532586965213914, total=   2.4s\n",
      "[CV] C=100, gamma=scale, kernel=rbf ..................................\n",
      "[CV]  C=100, gamma=scale, kernel=rbf, score=0.4642143142742903, total=   1.5s\n",
      "[CV] C=1000, gamma=100, kernel=rbf ...................................\n",
      "[CV]  C=1000, gamma=100, kernel=rbf, score=0.8053557154276578, total=   2.6s\n",
      "[CV] C=1000, gamma=100, kernel=rbf ...................................\n",
      "[CV]  C=1000, gamma=100, kernel=rbf, score=0.8052778888444622, total=   2.6s\n",
      "[CV] C=1000, gamma=100, kernel=rbf ...................................\n",
      "[CV]  C=1000, gamma=100, kernel=rbf, score=0.8052778888444622, total=   2.8s\n",
      "[CV] C=1000, gamma=10, kernel=rbf ....................................\n",
      "[CV]  C=1000, gamma=10, kernel=rbf, score=0.8053557154276578, total=   3.4s\n",
      "[CV] C=1000, gamma=10, kernel=rbf ....................................\n",
      "[CV]  C=1000, gamma=10, kernel=rbf, score=0.8052778888444622, total=   3.4s\n",
      "[CV] C=1000, gamma=10, kernel=rbf ....................................\n"
     ]
    },
    {
     "name": "stdout",
     "output_type": "stream",
     "text": [
      "[CV]  C=1000, gamma=10, kernel=rbf, score=0.8052778888444622, total=   3.4s\n",
      "[CV] C=1000, gamma=1, kernel=rbf .....................................\n",
      "[CV]  C=1000, gamma=1, kernel=rbf, score=0.8053557154276578, total=   4.6s\n",
      "[CV] C=1000, gamma=1, kernel=rbf .....................................\n",
      "[CV]  C=1000, gamma=1, kernel=rbf, score=0.8052778888444622, total=   4.5s\n",
      "[CV] C=1000, gamma=1, kernel=rbf .....................................\n",
      "[CV]  C=1000, gamma=1, kernel=rbf, score=0.8052778888444622, total=   4.8s\n",
      "[CV] C=1000, gamma=0.1, kernel=rbf ...................................\n",
      "[CV]  C=1000, gamma=0.1, kernel=rbf, score=0.7881694644284573, total=   3.0s\n",
      "[CV] C=1000, gamma=0.1, kernel=rbf ...................................\n",
      "[CV]  C=1000, gamma=0.1, kernel=rbf, score=0.8096761295481807, total=   3.1s\n",
      "[CV] C=1000, gamma=0.1, kernel=rbf ...................................\n",
      "[CV]  C=1000, gamma=0.1, kernel=rbf, score=0.641343462614954, total=   3.0s\n",
      "[CV] C=1000, gamma=0.01, kernel=rbf ..................................\n",
      "[CV]  C=1000, gamma=0.01, kernel=rbf, score=0.6946442845723422, total=   1.9s\n",
      "[CV] C=1000, gamma=0.01, kernel=rbf ..................................\n",
      "[CV]  C=1000, gamma=0.01, kernel=rbf, score=0.8548580567772891, total=   2.9s\n",
      "[CV] C=1000, gamma=0.01, kernel=rbf ..................................\n",
      "[CV]  C=1000, gamma=0.01, kernel=rbf, score=0.46781287485005996, total=   2.0s\n",
      "[CV] C=1000, gamma=scale, kernel=rbf .................................\n",
      "[CV]  C=1000, gamma=scale, kernel=rbf, score=0.7022382094324541, total=   1.7s\n",
      "[CV] C=1000, gamma=scale, kernel=rbf .................................\n",
      "[CV]  C=1000, gamma=scale, kernel=rbf, score=0.8524590163934426, total=   2.5s\n",
      "[CV] C=1000, gamma=scale, kernel=rbf .................................\n",
      "[CV]  C=1000, gamma=scale, kernel=rbf, score=0.46541383446621354, total=   1.5s\n"
     ]
    },
    {
     "name": "stderr",
     "output_type": "stream",
     "text": [
      "[Parallel(n_jobs=1)]: Done  72 out of  72 | elapsed:  5.1min finished\n"
     ]
    },
    {
     "data": {
      "text/plain": [
       "GridSearchCV(cv='warn', error_score='raise-deprecating',\n",
       "       estimator=SVC(C=1.0, cache_size=200, class_weight=None, coef0=0.0,\n",
       "  decision_function_shape='ovr', degree=3, gamma='auto_deprecated',\n",
       "  kernel='rbf', max_iter=-1, probability=False, random_state=None,\n",
       "  shrinking=True, tol=0.001, verbose=False),\n",
       "       fit_params=None, iid='warn', n_jobs=None,\n",
       "       param_grid={'C': [1, 10, 100, 1000], 'gamma': [100, 10, 1, 0.1, 0.01, 'scale'], 'kernel': ['rbf']},\n",
       "       pre_dispatch='2*n_jobs', refit=True, return_train_score='warn',\n",
       "       scoring=None, verbose=3)"
      ]
     },
     "execution_count": 471,
     "metadata": {},
     "output_type": "execute_result"
    }
   ],
   "source": [
    "# Could take some time\n",
    "grid.fit(X_train,np.ravel(y_train))"
   ]
  },
  {
   "cell_type": "code",
   "execution_count": 472,
   "metadata": {},
   "outputs": [
    {
     "data": {
      "text/plain": [
       "{'C': 1, 'gamma': 100, 'kernel': 'rbf'}"
      ]
     },
     "execution_count": 472,
     "metadata": {},
     "output_type": "execute_result"
    }
   ],
   "source": [
    "grid.best_params_"
   ]
  },
  {
   "cell_type": "code",
   "execution_count": 473,
   "metadata": {},
   "outputs": [
    {
     "data": {
      "text/plain": [
       "SVC(C=1, cache_size=200, class_weight=None, coef0=0.0,\n",
       "  decision_function_shape='ovr', degree=3, gamma=100, kernel='rbf',\n",
       "  max_iter=-1, probability=False, random_state=None, shrinking=True,\n",
       "  tol=0.001, verbose=False)"
      ]
     },
     "execution_count": 473,
     "metadata": {},
     "output_type": "execute_result"
    }
   ],
   "source": [
    "grid.best_estimator_"
   ]
  },
  {
   "cell_type": "code",
   "execution_count": 474,
   "metadata": {},
   "outputs": [],
   "source": [
    "grid_predictions = grid.predict(X_test)"
   ]
  },
  {
   "cell_type": "code",
   "execution_count": 475,
   "metadata": {},
   "outputs": [
    {
     "name": "stdout",
     "output_type": "stream",
     "text": [
      "[[2018    0]\n",
      " [ 493    0]]\n"
     ]
    }
   ],
   "source": [
    "print(confusion_matrix(y_test,grid_predictions))"
   ]
  },
  {
   "cell_type": "code",
   "execution_count": null,
   "metadata": {},
   "outputs": [],
   "source": []
  },
  {
   "cell_type": "markdown",
   "metadata": {},
   "source": [
    "# Random Forrest"
   ]
  },
  {
   "cell_type": "code",
   "execution_count": 615,
   "metadata": {},
   "outputs": [
    {
     "data": {
      "text/plain": [
       "DecisionTreeClassifier(class_weight=None, criterion='gini', max_depth=None,\n",
       "            max_features=None, max_leaf_nodes=None,\n",
       "            min_impurity_decrease=0.0, min_impurity_split=None,\n",
       "            min_samples_leaf=1, min_samples_split=2,\n",
       "            min_weight_fraction_leaf=0.0, presort=False, random_state=None,\n",
       "            splitter='best')"
      ]
     },
     "execution_count": 615,
     "metadata": {},
     "output_type": "execute_result"
    }
   ],
   "source": [
    "from sklearn.tree import DecisionTreeClassifier\n",
    "dtree = DecisionTreeClassifier()\n",
    "dtree.fit(X_train,y_train)"
   ]
  },
  {
   "cell_type": "code",
   "execution_count": 616,
   "metadata": {},
   "outputs": [],
   "source": [
    "predictions = dtree.predict(X_test)"
   ]
  },
  {
   "cell_type": "code",
   "execution_count": 617,
   "metadata": {},
   "outputs": [
    {
     "name": "stdout",
     "output_type": "stream",
     "text": [
      "[[1657  361]\n",
      " [ 305  188]]\n"
     ]
    }
   ],
   "source": [
    "print(confusion_matrix(y_test,predictions))"
   ]
  }
 ],
 "metadata": {
  "kernelspec": {
   "display_name": "Python 3",
   "language": "python",
   "name": "python3"
  },
  "language_info": {
   "codemirror_mode": {
    "name": "ipython",
    "version": 3
   },
   "file_extension": ".py",
   "mimetype": "text/x-python",
   "name": "python",
   "nbconvert_exporter": "python",
   "pygments_lexer": "ipython3",
   "version": "3.6.6"
  }
 },
 "nbformat": 4,
 "nbformat_minor": 2
}
