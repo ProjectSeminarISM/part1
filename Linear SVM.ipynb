{
 "cells": [
  {
   "cell_type": "code",
   "execution_count": 74,
   "metadata": {},
   "outputs": [],
   "source": [
    "import numpy as np\n",
    "import pandas as pd\n",
    "\n",
    "from sklearn.svm import SVC\n",
    "from sklearn.model_selection import train_test_split\n",
    "from sklearn.metrics import classification_report,confusion_matrix\n"
   ]
  },
  {
   "cell_type": "code",
   "execution_count": 75,
   "metadata": {},
   "outputs": [],
   "source": [
    "model = SVC(kernel='linear', C=100)"
   ]
  },
  {
   "cell_type": "code",
   "execution_count": 76,
   "metadata": {},
   "outputs": [],
   "source": [
    "df = pd.read_csv('features.csv')"
   ]
  },
  {
   "cell_type": "code",
   "execution_count": 77,
   "metadata": {},
   "outputs": [
    {
     "data": {
      "text/html": [
       "<div>\n",
       "<style scoped>\n",
       "    .dataframe tbody tr th:only-of-type {\n",
       "        vertical-align: middle;\n",
       "    }\n",
       "\n",
       "    .dataframe tbody tr th {\n",
       "        vertical-align: top;\n",
       "    }\n",
       "\n",
       "    .dataframe thead th {\n",
       "        text-align: right;\n",
       "    }\n",
       "</style>\n",
       "<table border=\"1\" class=\"dataframe\">\n",
       "  <thead>\n",
       "    <tr style=\"text-align: right;\">\n",
       "      <th></th>\n",
       "      <th>Unnamed: 0</th>\n",
       "      <th>lesion_id</th>\n",
       "      <th>image_id</th>\n",
       "      <th>dx</th>\n",
       "      <th>dx_type</th>\n",
       "      <th>age</th>\n",
       "      <th>sex</th>\n",
       "      <th>localization</th>\n",
       "      <th>contrast</th>\n",
       "      <th>dissimilarity</th>\n",
       "      <th>...</th>\n",
       "      <th>average_red</th>\n",
       "      <th>average_green</th>\n",
       "      <th>average_blue</th>\n",
       "      <th>moment_1</th>\n",
       "      <th>moment_2</th>\n",
       "      <th>moment_3</th>\n",
       "      <th>moment_4</th>\n",
       "      <th>moment_5</th>\n",
       "      <th>moment_6</th>\n",
       "      <th>moment_7</th>\n",
       "    </tr>\n",
       "  </thead>\n",
       "  <tbody>\n",
       "    <tr>\n",
       "      <th>0</th>\n",
       "      <td>4349</td>\n",
       "      <td>HAM_0000550</td>\n",
       "      <td>ISIC_0024306</td>\n",
       "      <td>nv</td>\n",
       "      <td>follow_up</td>\n",
       "      <td>45.0</td>\n",
       "      <td>male</td>\n",
       "      <td>trunk</td>\n",
       "      <td>24.014902</td>\n",
       "      <td>3.069379</td>\n",
       "      <td>...</td>\n",
       "      <td>214.742830</td>\n",
       "      <td>117.623078</td>\n",
       "      <td>118.454056</td>\n",
       "      <td>1.163379</td>\n",
       "      <td>1.382237</td>\n",
       "      <td>2.829335</td>\n",
       "      <td>2.813571</td>\n",
       "      <td>7.935344</td>\n",
       "      <td>3.307396</td>\n",
       "      <td>0.217670</td>\n",
       "    </tr>\n",
       "    <tr>\n",
       "      <th>1</th>\n",
       "      <td>4263</td>\n",
       "      <td>HAM_0003577</td>\n",
       "      <td>ISIC_0024307</td>\n",
       "      <td>nv</td>\n",
       "      <td>follow_up</td>\n",
       "      <td>50.0</td>\n",
       "      <td>male</td>\n",
       "      <td>lower extremity</td>\n",
       "      <td>30.136113</td>\n",
       "      <td>3.191185</td>\n",
       "      <td>...</td>\n",
       "      <td>216.408637</td>\n",
       "      <td>124.305130</td>\n",
       "      <td>130.559900</td>\n",
       "      <td>1.118366</td>\n",
       "      <td>1.293264</td>\n",
       "      <td>2.535354</td>\n",
       "      <td>2.515856</td>\n",
       "      <td>6.353954</td>\n",
       "      <td>2.861035</td>\n",
       "      <td>0.026798</td>\n",
       "    </tr>\n",
       "    <tr>\n",
       "      <th>2</th>\n",
       "      <td>4217</td>\n",
       "      <td>HAM_0001477</td>\n",
       "      <td>ISIC_0024308</td>\n",
       "      <td>nv</td>\n",
       "      <td>follow_up</td>\n",
       "      <td>55.0</td>\n",
       "      <td>female</td>\n",
       "      <td>trunk</td>\n",
       "      <td>41.095028</td>\n",
       "      <td>4.274612</td>\n",
       "      <td>...</td>\n",
       "      <td>211.505348</td>\n",
       "      <td>128.136615</td>\n",
       "      <td>127.854930</td>\n",
       "      <td>1.480798</td>\n",
       "      <td>2.217678</td>\n",
       "      <td>4.343567</td>\n",
       "      <td>4.375000</td>\n",
       "      <td>19.071113</td>\n",
       "      <td>6.515033</td>\n",
       "      <td>-0.154898</td>\n",
       "    </tr>\n",
       "    <tr>\n",
       "      <th>3</th>\n",
       "      <td>3587</td>\n",
       "      <td>HAM_0000484</td>\n",
       "      <td>ISIC_0024309</td>\n",
       "      <td>nv</td>\n",
       "      <td>follow_up</td>\n",
       "      <td>40.0</td>\n",
       "      <td>male</td>\n",
       "      <td>trunk</td>\n",
       "      <td>12.082754</td>\n",
       "      <td>2.573382</td>\n",
       "      <td>...</td>\n",
       "      <td>193.472681</td>\n",
       "      <td>107.059463</td>\n",
       "      <td>117.562107</td>\n",
       "      <td>1.056819</td>\n",
       "      <td>1.227700</td>\n",
       "      <td>2.319562</td>\n",
       "      <td>2.259257</td>\n",
       "      <td>5.169826</td>\n",
       "      <td>2.502097</td>\n",
       "      <td>0.146991</td>\n",
       "    </tr>\n",
       "    <tr>\n",
       "      <th>4</th>\n",
       "      <td>1451</td>\n",
       "      <td>HAM_0003350</td>\n",
       "      <td>ISIC_0024310</td>\n",
       "      <td>mel</td>\n",
       "      <td>histo</td>\n",
       "      <td>60.0</td>\n",
       "      <td>male</td>\n",
       "      <td>chest</td>\n",
       "      <td>67.513619</td>\n",
       "      <td>5.757603</td>\n",
       "      <td>...</td>\n",
       "      <td>201.125259</td>\n",
       "      <td>133.741378</td>\n",
       "      <td>130.974178</td>\n",
       "      <td>0.324694</td>\n",
       "      <td>0.107135</td>\n",
       "      <td>0.202398</td>\n",
       "      <td>0.204181</td>\n",
       "      <td>0.041503</td>\n",
       "      <td>0.066831</td>\n",
       "      <td>-0.000623</td>\n",
       "    </tr>\n",
       "  </tbody>\n",
       "</table>\n",
       "<p>5 rows × 23 columns</p>\n",
       "</div>"
      ],
      "text/plain": [
       "   Unnamed: 0    lesion_id      image_id   dx    dx_type   age     sex  \\\n",
       "0        4349  HAM_0000550  ISIC_0024306   nv  follow_up  45.0    male   \n",
       "1        4263  HAM_0003577  ISIC_0024307   nv  follow_up  50.0    male   \n",
       "2        4217  HAM_0001477  ISIC_0024308   nv  follow_up  55.0  female   \n",
       "3        3587  HAM_0000484  ISIC_0024309   nv  follow_up  40.0    male   \n",
       "4        1451  HAM_0003350  ISIC_0024310  mel      histo  60.0    male   \n",
       "\n",
       "      localization   contrast  dissimilarity    ...     average_red  \\\n",
       "0            trunk  24.014902       3.069379    ...      214.742830   \n",
       "1  lower extremity  30.136113       3.191185    ...      216.408637   \n",
       "2            trunk  41.095028       4.274612    ...      211.505348   \n",
       "3            trunk  12.082754       2.573382    ...      193.472681   \n",
       "4            chest  67.513619       5.757603    ...      201.125259   \n",
       "\n",
       "   average_green  average_blue  moment_1  moment_2  moment_3  moment_4  \\\n",
       "0     117.623078    118.454056  1.163379  1.382237  2.829335  2.813571   \n",
       "1     124.305130    130.559900  1.118366  1.293264  2.535354  2.515856   \n",
       "2     128.136615    127.854930  1.480798  2.217678  4.343567  4.375000   \n",
       "3     107.059463    117.562107  1.056819  1.227700  2.319562  2.259257   \n",
       "4     133.741378    130.974178  0.324694  0.107135  0.202398  0.204181   \n",
       "\n",
       "    moment_5  moment_6  moment_7  \n",
       "0   7.935344  3.307396  0.217670  \n",
       "1   6.353954  2.861035  0.026798  \n",
       "2  19.071113  6.515033 -0.154898  \n",
       "3   5.169826  2.502097  0.146991  \n",
       "4   0.041503  0.066831 -0.000623  \n",
       "\n",
       "[5 rows x 23 columns]"
      ]
     },
     "execution_count": 77,
     "metadata": {},
     "output_type": "execute_result"
    }
   ],
   "source": [
    "df.head()"
   ]
  },
  {
   "cell_type": "code",
   "execution_count": 78,
   "metadata": {},
   "outputs": [],
   "source": [
    "df = df.dropna()"
   ]
  },
  {
   "cell_type": "code",
   "execution_count": 90,
   "metadata": {},
   "outputs": [
    {
     "ename": "ValueError",
     "evalue": "The truth value of a Series is ambiguous. Use a.empty, a.bool(), a.item(), a.any() or a.all().",
     "output_type": "error",
     "traceback": [
      "\u001b[0;31m---------------------------------------------------------------------------\u001b[0m",
      "\u001b[0;31mValueError\u001b[0m                                Traceback (most recent call last)",
      "\u001b[0;32m<ipython-input-90-8ff3cec712ba>\u001b[0m in \u001b[0;36m<module>\u001b[0;34m\u001b[0m\n\u001b[1;32m      1\u001b[0m \u001b[0mdf_target\u001b[0m \u001b[0;34m=\u001b[0m \u001b[0mpd\u001b[0m\u001b[0;34m.\u001b[0m\u001b[0mDataFrame\u001b[0m\u001b[0;34m(\u001b[0m\u001b[0mdf\u001b[0m\u001b[0;34m[\u001b[0m\u001b[0;34m'dx'\u001b[0m\u001b[0;34m]\u001b[0m\u001b[0;34m)\u001b[0m\u001b[0;34m\u001b[0m\u001b[0m\n\u001b[0;32m----> 2\u001b[0;31m \u001b[0mdf_target_two\u001b[0m \u001b[0;34m=\u001b[0m \u001b[0mpd\u001b[0m\u001b[0;34m.\u001b[0m\u001b[0mDataFrame\u001b[0m\u001b[0;34m(\u001b[0m\u001b[0mdf\u001b[0m\u001b[0;34m[\u001b[0m\u001b[0;34m'dx'\u001b[0m\u001b[0;34m]\u001b[0m \u001b[0;34m==\u001b[0m \u001b[0;34m'akiec'\u001b[0m \u001b[0;32mor\u001b[0m \u001b[0mdf\u001b[0m\u001b[0;34m[\u001b[0m\u001b[0;34m'dx'\u001b[0m\u001b[0;34m]\u001b[0m \u001b[0;34m==\u001b[0m \u001b[0;34m'mel'\u001b[0m \u001b[0;32mor\u001b[0m \u001b[0mdf\u001b[0m\u001b[0;34m[\u001b[0m\u001b[0;34m'dx'\u001b[0m\u001b[0;34m]\u001b[0m \u001b[0;34m==\u001b[0m \u001b[0;34m'bcc'\u001b[0m\u001b[0;34m)\u001b[0m\u001b[0;34m\u001b[0m\u001b[0m\n\u001b[0m",
      "\u001b[0;32m/anaconda3/lib/python3.6/site-packages/pandas/core/generic.py\u001b[0m in \u001b[0;36m__nonzero__\u001b[0;34m(self)\u001b[0m\n\u001b[1;32m   1574\u001b[0m         raise ValueError(\"The truth value of a {0} is ambiguous. \"\n\u001b[1;32m   1575\u001b[0m                          \u001b[0;34m\"Use a.empty, a.bool(), a.item(), a.any() or a.all().\"\u001b[0m\u001b[0;34m\u001b[0m\u001b[0m\n\u001b[0;32m-> 1576\u001b[0;31m                          .format(self.__class__.__name__))\n\u001b[0m\u001b[1;32m   1577\u001b[0m \u001b[0;34m\u001b[0m\u001b[0m\n\u001b[1;32m   1578\u001b[0m     \u001b[0m__bool__\u001b[0m \u001b[0;34m=\u001b[0m \u001b[0m__nonzero__\u001b[0m\u001b[0;34m\u001b[0m\u001b[0m\n",
      "\u001b[0;31mValueError\u001b[0m: The truth value of a Series is ambiguous. Use a.empty, a.bool(), a.item(), a.any() or a.all()."
     ]
    }
   ],
   "source": [
    "df_target = pd.DataFrame(df['dx'])\n",
    "df_target_two = pd.DataFrame(df['dx'] == 'akiec' or df['dx'] == 'mel' or df['dx'] == 'bcc')"
   ]
  },
  {
   "cell_type": "code",
   "execution_count": 91,
   "metadata": {
    "scrolled": true
   },
   "outputs": [
    {
     "data": {
      "text/html": [
       "<div>\n",
       "<style scoped>\n",
       "    .dataframe tbody tr th:only-of-type {\n",
       "        vertical-align: middle;\n",
       "    }\n",
       "\n",
       "    .dataframe tbody tr th {\n",
       "        vertical-align: top;\n",
       "    }\n",
       "\n",
       "    .dataframe thead th {\n",
       "        text-align: right;\n",
       "    }\n",
       "</style>\n",
       "<table border=\"1\" class=\"dataframe\">\n",
       "  <thead>\n",
       "    <tr style=\"text-align: right;\">\n",
       "      <th></th>\n",
       "      <th>dx</th>\n",
       "    </tr>\n",
       "  </thead>\n",
       "  <tbody>\n",
       "    <tr>\n",
       "      <th>0</th>\n",
       "      <td>True</td>\n",
       "    </tr>\n",
       "    <tr>\n",
       "      <th>1</th>\n",
       "      <td>True</td>\n",
       "    </tr>\n",
       "    <tr>\n",
       "      <th>2</th>\n",
       "      <td>True</td>\n",
       "    </tr>\n",
       "    <tr>\n",
       "      <th>3</th>\n",
       "      <td>True</td>\n",
       "    </tr>\n",
       "    <tr>\n",
       "      <th>4</th>\n",
       "      <td>False</td>\n",
       "    </tr>\n",
       "  </tbody>\n",
       "</table>\n",
       "</div>"
      ],
      "text/plain": [
       "      dx\n",
       "0   True\n",
       "1   True\n",
       "2   True\n",
       "3   True\n",
       "4  False"
      ]
     },
     "execution_count": 91,
     "metadata": {},
     "output_type": "execute_result"
    }
   ],
   "source": [
    "df_target_two.head()"
   ]
  },
  {
   "cell_type": "code",
   "execution_count": 80,
   "metadata": {},
   "outputs": [],
   "source": [
    "df_feat = df[['age', 'contrast', 'contrast', 'dissimilarity', 'homogeneity', 'energy','correlation', 'average_red', 'average_green', 'average_blue', 'moment_1', 'moment_2', 'moment_3', 'moment_4','moment_5', 'moment_6', 'moment_7']].copy()"
   ]
  },
  {
   "cell_type": "code",
   "execution_count": 70,
   "metadata": {},
   "outputs": [
    {
     "data": {
      "text/html": [
       "<div>\n",
       "<style scoped>\n",
       "    .dataframe tbody tr th:only-of-type {\n",
       "        vertical-align: middle;\n",
       "    }\n",
       "\n",
       "    .dataframe tbody tr th {\n",
       "        vertical-align: top;\n",
       "    }\n",
       "\n",
       "    .dataframe thead th {\n",
       "        text-align: right;\n",
       "    }\n",
       "</style>\n",
       "<table border=\"1\" class=\"dataframe\">\n",
       "  <thead>\n",
       "    <tr style=\"text-align: right;\">\n",
       "      <th></th>\n",
       "      <th>age</th>\n",
       "      <th>contrast</th>\n",
       "      <th>contrast</th>\n",
       "      <th>dissimilarity</th>\n",
       "      <th>homogeneity</th>\n",
       "      <th>energy</th>\n",
       "      <th>correlation</th>\n",
       "      <th>average_red</th>\n",
       "      <th>average_green</th>\n",
       "      <th>average_blue</th>\n",
       "      <th>moment_1</th>\n",
       "      <th>moment_2</th>\n",
       "      <th>moment_3</th>\n",
       "      <th>moment_4</th>\n",
       "      <th>moment_5</th>\n",
       "      <th>moment_6</th>\n",
       "      <th>moment_7</th>\n",
       "    </tr>\n",
       "  </thead>\n",
       "  <tbody>\n",
       "    <tr>\n",
       "      <th>0</th>\n",
       "      <td>45.0</td>\n",
       "      <td>24.014902</td>\n",
       "      <td>24.014902</td>\n",
       "      <td>3.069379</td>\n",
       "      <td>0.307001</td>\n",
       "      <td>0.043835</td>\n",
       "      <td>0.987888</td>\n",
       "      <td>214.742830</td>\n",
       "      <td>117.623078</td>\n",
       "      <td>118.454056</td>\n",
       "      <td>1.163379</td>\n",
       "      <td>1.382237</td>\n",
       "      <td>2.829335</td>\n",
       "      <td>2.813571</td>\n",
       "      <td>7.935344</td>\n",
       "      <td>3.307396</td>\n",
       "      <td>0.217670</td>\n",
       "    </tr>\n",
       "    <tr>\n",
       "      <th>1</th>\n",
       "      <td>50.0</td>\n",
       "      <td>30.136113</td>\n",
       "      <td>30.136113</td>\n",
       "      <td>3.191185</td>\n",
       "      <td>0.303528</td>\n",
       "      <td>0.043541</td>\n",
       "      <td>0.959360</td>\n",
       "      <td>216.408637</td>\n",
       "      <td>124.305130</td>\n",
       "      <td>130.559900</td>\n",
       "      <td>1.118366</td>\n",
       "      <td>1.293264</td>\n",
       "      <td>2.535354</td>\n",
       "      <td>2.515856</td>\n",
       "      <td>6.353954</td>\n",
       "      <td>2.861035</td>\n",
       "      <td>0.026798</td>\n",
       "    </tr>\n",
       "    <tr>\n",
       "      <th>2</th>\n",
       "      <td>55.0</td>\n",
       "      <td>41.095028</td>\n",
       "      <td>41.095028</td>\n",
       "      <td>4.274612</td>\n",
       "      <td>0.251319</td>\n",
       "      <td>0.032048</td>\n",
       "      <td>0.991983</td>\n",
       "      <td>211.505348</td>\n",
       "      <td>128.136615</td>\n",
       "      <td>127.854930</td>\n",
       "      <td>1.480798</td>\n",
       "      <td>2.217678</td>\n",
       "      <td>4.343567</td>\n",
       "      <td>4.375000</td>\n",
       "      <td>19.071113</td>\n",
       "      <td>6.515033</td>\n",
       "      <td>-0.154898</td>\n",
       "    </tr>\n",
       "    <tr>\n",
       "      <th>3</th>\n",
       "      <td>40.0</td>\n",
       "      <td>12.082754</td>\n",
       "      <td>12.082754</td>\n",
       "      <td>2.573382</td>\n",
       "      <td>0.320591</td>\n",
       "      <td>0.042877</td>\n",
       "      <td>0.989450</td>\n",
       "      <td>193.472681</td>\n",
       "      <td>107.059463</td>\n",
       "      <td>117.562107</td>\n",
       "      <td>1.056819</td>\n",
       "      <td>1.227700</td>\n",
       "      <td>2.319562</td>\n",
       "      <td>2.259257</td>\n",
       "      <td>5.169826</td>\n",
       "      <td>2.502097</td>\n",
       "      <td>0.146991</td>\n",
       "    </tr>\n",
       "    <tr>\n",
       "      <th>4</th>\n",
       "      <td>60.0</td>\n",
       "      <td>67.513619</td>\n",
       "      <td>67.513619</td>\n",
       "      <td>5.757603</td>\n",
       "      <td>0.179977</td>\n",
       "      <td>0.024888</td>\n",
       "      <td>0.966229</td>\n",
       "      <td>201.125259</td>\n",
       "      <td>133.741378</td>\n",
       "      <td>130.974178</td>\n",
       "      <td>0.324694</td>\n",
       "      <td>0.107135</td>\n",
       "      <td>0.202398</td>\n",
       "      <td>0.204181</td>\n",
       "      <td>0.041503</td>\n",
       "      <td>0.066831</td>\n",
       "      <td>-0.000623</td>\n",
       "    </tr>\n",
       "  </tbody>\n",
       "</table>\n",
       "</div>"
      ],
      "text/plain": [
       "    age   contrast   contrast  dissimilarity  homogeneity    energy  \\\n",
       "0  45.0  24.014902  24.014902       3.069379     0.307001  0.043835   \n",
       "1  50.0  30.136113  30.136113       3.191185     0.303528  0.043541   \n",
       "2  55.0  41.095028  41.095028       4.274612     0.251319  0.032048   \n",
       "3  40.0  12.082754  12.082754       2.573382     0.320591  0.042877   \n",
       "4  60.0  67.513619  67.513619       5.757603     0.179977  0.024888   \n",
       "\n",
       "   correlation  average_red  average_green  average_blue  moment_1  moment_2  \\\n",
       "0     0.987888   214.742830     117.623078    118.454056  1.163379  1.382237   \n",
       "1     0.959360   216.408637     124.305130    130.559900  1.118366  1.293264   \n",
       "2     0.991983   211.505348     128.136615    127.854930  1.480798  2.217678   \n",
       "3     0.989450   193.472681     107.059463    117.562107  1.056819  1.227700   \n",
       "4     0.966229   201.125259     133.741378    130.974178  0.324694  0.107135   \n",
       "\n",
       "   moment_3  moment_4   moment_5  moment_6  moment_7  \n",
       "0  2.829335  2.813571   7.935344  3.307396  0.217670  \n",
       "1  2.535354  2.515856   6.353954  2.861035  0.026798  \n",
       "2  4.343567  4.375000  19.071113  6.515033 -0.154898  \n",
       "3  2.319562  2.259257   5.169826  2.502097  0.146991  \n",
       "4  0.202398  0.204181   0.041503  0.066831 -0.000623  "
      ]
     },
     "execution_count": 70,
     "metadata": {},
     "output_type": "execute_result"
    }
   ],
   "source": [
    "df_feat.head(5)"
   ]
  },
  {
   "cell_type": "code",
   "execution_count": 71,
   "metadata": {},
   "outputs": [
    {
     "name": "stdout",
     "output_type": "stream",
     "text": [
      "<class 'pandas.core.frame.DataFrame'>\n",
      "RangeIndex: 10015 entries, 0 to 10014\n",
      "Data columns (total 23 columns):\n",
      "Unnamed: 0       10015 non-null int64\n",
      "lesion_id        10015 non-null object\n",
      "image_id         10015 non-null object\n",
      "dx               10015 non-null object\n",
      "dx_type          10015 non-null object\n",
      "age              9958 non-null float64\n",
      "sex              10015 non-null object\n",
      "localization     10015 non-null object\n",
      "contrast         10015 non-null float64\n",
      "dissimilarity    10015 non-null float64\n",
      "homogeneity      10015 non-null float64\n",
      "energy           10015 non-null float64\n",
      "correlation      10015 non-null float64\n",
      "average_red      10015 non-null float64\n",
      "average_green    10015 non-null float64\n",
      "average_blue     10015 non-null float64\n",
      "moment_1         10015 non-null float64\n",
      "moment_2         10015 non-null float64\n",
      "moment_3         10015 non-null float64\n",
      "moment_4         10015 non-null float64\n",
      "moment_5         10015 non-null float64\n",
      "moment_6         10015 non-null float64\n",
      "moment_7         10015 non-null float64\n",
      "dtypes: float64(16), int64(1), object(6)\n",
      "memory usage: 1.8+ MB\n"
     ]
    }
   ],
   "source": [
    "df.info()"
   ]
  },
  {
   "cell_type": "code",
   "execution_count": 73,
   "metadata": {},
   "outputs": [
    {
     "name": "stdout",
     "output_type": "stream",
     "text": [
      "<class 'pandas.core.frame.DataFrame'>\n",
      "RangeIndex: 10015 entries, 0 to 10014\n",
      "Data columns (total 1 columns):\n",
      "dx    10015 non-null object\n",
      "dtypes: object(1)\n",
      "memory usage: 78.3+ KB\n"
     ]
    }
   ],
   "source": [
    "df_target.info()"
   ]
  },
  {
   "cell_type": "code",
   "execution_count": 81,
   "metadata": {},
   "outputs": [],
   "source": [
    "X_train, X_test, y_train, y_test = train_test_split(df_feat, np.ravel(df_target), test_size=0.30, random_state=101)"
   ]
  },
  {
   "cell_type": "code",
   "execution_count": 82,
   "metadata": {},
   "outputs": [
    {
     "data": {
      "text/plain": [
       "SVC(C=100, cache_size=200, class_weight=None, coef0=0.0,\n",
       "  decision_function_shape='ovr', degree=3, gamma='auto_deprecated',\n",
       "  kernel='linear', max_iter=-1, probability=False, random_state=None,\n",
       "  shrinking=True, tol=0.001, verbose=False)"
      ]
     },
     "execution_count": 82,
     "metadata": {},
     "output_type": "execute_result"
    }
   ],
   "source": [
    "model.fit(X_train,y_train)"
   ]
  },
  {
   "cell_type": "code",
   "execution_count": 83,
   "metadata": {},
   "outputs": [],
   "source": [
    "predictions = model.predict(X_test)"
   ]
  },
  {
   "cell_type": "code",
   "execution_count": 84,
   "metadata": {},
   "outputs": [
    {
     "name": "stdout",
     "output_type": "stream",
     "text": [
      "[[   5    4   13    0    3   67    0]\n",
      " [   5   22   24    0    6   90    0]\n",
      " [   6   17   90    1   31  185    0]\n",
      " [   0    4    4    0    0   32    0]\n",
      " [   6    1   53    0   65  191    0]\n",
      " [   4   10   45    1   42 1906    0]\n",
      " [   0    2    1    0    1   51    0]]\n"
     ]
    }
   ],
   "source": [
    "print(confusion_matrix(y_test,predictions))"
   ]
  },
  {
   "cell_type": "code",
   "execution_count": 85,
   "metadata": {},
   "outputs": [
    {
     "name": "stdout",
     "output_type": "stream",
     "text": [
      "              precision    recall  f1-score   support\n",
      "\n",
      "       akiec       0.19      0.05      0.08        92\n",
      "         bcc       0.37      0.15      0.21       147\n",
      "         bkl       0.39      0.27      0.32       330\n",
      "          df       0.00      0.00      0.00        40\n",
      "         mel       0.44      0.21      0.28       316\n",
      "          nv       0.76      0.95      0.84      2008\n",
      "        vasc       0.00      0.00      0.00        55\n",
      "\n",
      "   micro avg       0.70      0.70      0.70      2988\n",
      "   macro avg       0.31      0.23      0.25      2988\n",
      "weighted avg       0.62      0.70      0.64      2988\n",
      "\n"
     ]
    },
    {
     "name": "stderr",
     "output_type": "stream",
     "text": [
      "/anaconda3/lib/python3.6/site-packages/sklearn/metrics/classification.py:1143: UndefinedMetricWarning: Precision and F-score are ill-defined and being set to 0.0 in labels with no predicted samples.\n",
      "  'precision', 'predicted', average, warn_for)\n"
     ]
    }
   ],
   "source": [
    "print(classification_report(y_test,predictions))"
   ]
  },
  {
   "cell_type": "code",
   "execution_count": 93,
   "metadata": {},
   "outputs": [],
   "source": [
    "X_train, X_test, y_train2, y_test2 = train_test_split(df_feat, np.ravel(df_target_two), test_size=0.30, random_state=101)"
   ]
  },
  {
   "cell_type": "code",
   "execution_count": 94,
   "metadata": {},
   "outputs": [
    {
     "data": {
      "text/plain": [
       "SVC(C=100, cache_size=200, class_weight=None, coef0=0.0,\n",
       "  decision_function_shape='ovr', degree=3, gamma='auto_deprecated',\n",
       "  kernel='linear', max_iter=-1, probability=False, random_state=None,\n",
       "  shrinking=True, tol=0.001, verbose=False)"
      ]
     },
     "execution_count": 94,
     "metadata": {},
     "output_type": "execute_result"
    }
   ],
   "source": [
    "model.fit(X_train,y_train2)"
   ]
  },
  {
   "cell_type": "code",
   "execution_count": 95,
   "metadata": {},
   "outputs": [],
   "source": [
    "predictions = model.predict(X_test)"
   ]
  },
  {
   "cell_type": "code",
   "execution_count": 96,
   "metadata": {},
   "outputs": [
    {
     "name": "stdout",
     "output_type": "stream",
     "text": [
      "[[ 612  368]\n",
      " [ 259 1749]]\n"
     ]
    }
   ],
   "source": [
    "print(confusion_matrix(y_test,predictions))"
   ]
  },
  {
   "cell_type": "code",
   "execution_count": 97,
   "metadata": {},
   "outputs": [
    {
     "name": "stdout",
     "output_type": "stream",
     "text": [
      "              precision    recall  f1-score   support\n",
      "\n",
      "       False       0.70      0.62      0.66       980\n",
      "        True       0.83      0.87      0.85      2008\n",
      "\n",
      "   micro avg       0.79      0.79      0.79      2988\n",
      "   macro avg       0.76      0.75      0.75      2988\n",
      "weighted avg       0.79      0.79      0.79      2988\n",
      "\n"
     ]
    }
   ],
   "source": [
    "print(classification_report(y_test,predictions))"
   ]
  },
  {
   "cell_type": "code",
   "execution_count": 99,
   "metadata": {},
   "outputs": [],
   "source": [
    "predictions2 = model.predict(X_train)"
   ]
  },
  {
   "cell_type": "code",
   "execution_count": 101,
   "metadata": {},
   "outputs": [
    {
     "name": "stdout",
     "output_type": "stream",
     "text": [
      "[[1556  762]\n",
      " [ 581 4071]]\n"
     ]
    }
   ],
   "source": [
    "print(confusion_matrix(y_train,predictions2))"
   ]
  },
  {
   "cell_type": "code",
   "execution_count": 103,
   "metadata": {},
   "outputs": [
    {
     "name": "stdout",
     "output_type": "stream",
     "text": [
      "              precision    recall  f1-score   support\n",
      "\n",
      "       False       0.73      0.67      0.70      2318\n",
      "        True       0.84      0.88      0.86      4652\n",
      "\n",
      "   micro avg       0.81      0.81      0.81      6970\n",
      "   macro avg       0.79      0.77      0.78      6970\n",
      "weighted avg       0.80      0.81      0.81      6970\n",
      "\n"
     ]
    }
   ],
   "source": [
    "print(classification_report(y_train,predictions2))"
   ]
  },
  {
   "cell_type": "code",
   "execution_count": null,
   "metadata": {},
   "outputs": [],
   "source": []
  }
 ],
 "metadata": {
  "kernelspec": {
   "display_name": "Python 3",
   "language": "python",
   "name": "python3"
  },
  "language_info": {
   "codemirror_mode": {
    "name": "ipython",
    "version": 3
   },
   "file_extension": ".py",
   "mimetype": "text/x-python",
   "name": "python",
   "nbconvert_exporter": "python",
   "pygments_lexer": "ipython3",
   "version": "3.6.6"
  }
 },
 "nbformat": 4,
 "nbformat_minor": 2
}
